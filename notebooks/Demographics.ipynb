{
 "cells": [
  {
   "cell_type": "code",
   "execution_count": 106,
   "metadata": {
    "collapsed": true
   },
   "outputs": [],
   "source": [
    "# For data\n",
    "import pandas as pd\n",
    "from pandas import Series,DataFrame\n",
    "import numpy as np\n",
    "from datetime import datetime, timedelta\n",
    "import pytz\n",
    "from pytz import timezone\n",
    "from pandas.io import sql\n",
    "import pymysql.cursors\n",
    "\n",
    "# For visualization\n",
    "import matplotlib.pyplot as plt\n",
    "import seaborn as sns\n",
    "sns.set_style('whitegrid')\n",
    "%matplotlib inline\n",
    "\n",
    "from __future__ import division"
   ]
  },
  {
   "cell_type": "markdown",
   "metadata": {},
   "source": [
    "###### Please find below questions related to \"demographics\" part of the study\n",
    "\n",
    "- Users characteristics ?\n",
    "- What does a typical user look like ?\n",
    "- What goals do they have ?\n",
    "- How do these goals vary by demographics or need ? "
   ]
  },
  {
   "cell_type": "code",
   "execution_count": 158,
   "metadata": {
    "collapsed": false
   },
   "outputs": [],
   "source": [
    "#Importing all datasets (all of operations are detailled in notebooks from directory called \"exploring\")\n",
    "\n",
    "#users with complete timezone\n",
    "users_df = pd.read_csv('/Users/kevenlemoing/Sites/Lifesum_assignement/data/users_timezone.csv',error_bad_lines=False)\n",
    "\n",
    "#food\n",
    "food_df = pd.read_csv('/Users/kevenlemoing/Sites/Lifesum_assignement/data/food.csv',error_bad_lines=False)\n",
    "\n",
    "#exercise\n",
    "ex_df = pd.read_csv('/Users/kevenlemoing/Sites/lifesum_assignement/data/exercise.csv',error_bad_lines=False)\n",
    "\n",
    "#weight\n",
    "weight_df = pd.read_csv('/Users/kevenlemoing/Sites/lifesum_assignement/data/weight.csv',error_bad_lines=False)"
   ]
  },
  {
   "cell_type": "code",
   "execution_count": 159,
   "metadata": {
    "collapsed": false
   },
   "outputs": [
    {
     "data": {
      "text/html": [
       "<div>\n",
       "<table border=\"1\" class=\"dataframe\">\n",
       "  <thead>\n",
       "    <tr style=\"text-align: right;\">\n",
       "      <th></th>\n",
       "      <th>Unnamed: 0</th>\n",
       "      <th>user_id</th>\n",
       "      <th>start_date</th>\n",
       "      <th>height_cm</th>\n",
       "      <th>age</th>\n",
       "      <th>country</th>\n",
       "      <th>language</th>\n",
       "      <th>gender</th>\n",
       "      <th>timezone</th>\n",
       "      <th>goal_weight_kg</th>\n",
       "    </tr>\n",
       "  </thead>\n",
       "  <tbody>\n",
       "    <tr>\n",
       "      <th>0</th>\n",
       "      <td>0</td>\n",
       "      <td>24822001</td>\n",
       "      <td>2017-09-14</td>\n",
       "      <td>NaN</td>\n",
       "      <td>18</td>\n",
       "      <td>BR</td>\n",
       "      <td>pt</td>\n",
       "      <td>f</td>\n",
       "      <td>2017-09-14 00:00:00 FNT-0200</td>\n",
       "      <td>178.7</td>\n",
       "    </tr>\n",
       "    <tr>\n",
       "      <th>1</th>\n",
       "      <td>1</td>\n",
       "      <td>23529201</td>\n",
       "      <td>2017-07-12</td>\n",
       "      <td>50.0</td>\n",
       "      <td>23</td>\n",
       "      <td>NL</td>\n",
       "      <td>nl</td>\n",
       "      <td>m</td>\n",
       "      <td>2017-07-12 00:00:00 CEST+0200</td>\n",
       "      <td>50.0</td>\n",
       "    </tr>\n",
       "    <tr>\n",
       "      <th>2</th>\n",
       "      <td>2</td>\n",
       "      <td>24352001</td>\n",
       "      <td>2017-08-21</td>\n",
       "      <td>50.0</td>\n",
       "      <td>20</td>\n",
       "      <td>US</td>\n",
       "      <td>en</td>\n",
       "      <td>f</td>\n",
       "      <td>2017-08-21 00:00:00 EDT-0400</td>\n",
       "      <td>57.2</td>\n",
       "    </tr>\n",
       "    <tr>\n",
       "      <th>3</th>\n",
       "      <td>3</td>\n",
       "      <td>23379001</td>\n",
       "      <td>2017-07-05</td>\n",
       "      <td>52.0</td>\n",
       "      <td>26</td>\n",
       "      <td>GB</td>\n",
       "      <td>en</td>\n",
       "      <td>f</td>\n",
       "      <td>2017-07-05 00:00:00 IST+0530</td>\n",
       "      <td>33.1</td>\n",
       "    </tr>\n",
       "    <tr>\n",
       "      <th>4</th>\n",
       "      <td>4</td>\n",
       "      <td>24776001</td>\n",
       "      <td>2017-09-12</td>\n",
       "      <td>52.0</td>\n",
       "      <td>23</td>\n",
       "      <td>CA</td>\n",
       "      <td>en</td>\n",
       "      <td>f</td>\n",
       "      <td>2017-09-12 00:00:00 EDT-0400</td>\n",
       "      <td>70.0</td>\n",
       "    </tr>\n",
       "  </tbody>\n",
       "</table>\n",
       "</div>"
      ],
      "text/plain": [
       "   Unnamed: 0   user_id  start_date  height_cm  age country language gender  \\\n",
       "0           0  24822001  2017-09-14        NaN   18      BR       pt      f   \n",
       "1           1  23529201  2017-07-12       50.0   23      NL       nl      m   \n",
       "2           2  24352001  2017-08-21       50.0   20      US       en      f   \n",
       "3           3  23379001  2017-07-05       52.0   26      GB       en      f   \n",
       "4           4  24776001  2017-09-12       52.0   23      CA       en      f   \n",
       "\n",
       "                        timezone  goal_weight_kg  \n",
       "0   2017-09-14 00:00:00 FNT-0200           178.7  \n",
       "1  2017-07-12 00:00:00 CEST+0200            50.0  \n",
       "2   2017-08-21 00:00:00 EDT-0400            57.2  \n",
       "3   2017-07-05 00:00:00 IST+0530            33.1  \n",
       "4   2017-09-12 00:00:00 EDT-0400            70.0  "
      ]
     },
     "execution_count": 159,
     "metadata": {},
     "output_type": "execute_result"
    }
   ],
   "source": [
    "users_df.head()"
   ]
  },
  {
   "cell_type": "code",
   "execution_count": 31,
   "metadata": {
    "collapsed": false
   },
   "outputs": [
    {
     "data": {
      "text/plain": [
       "<seaborn.axisgrid.FacetGrid at 0x124bc9390>"
      ]
     },
     "execution_count": 31,
     "metadata": {},
     "output_type": "execute_result"
    },
    {
     "data": {
      "image/png": "[encoded data removed]",
      "text/plain": [
       "<matplotlib.figure.Figure at 0x12543c8d0>"
      ]
     },
     "metadata": {},
     "output_type": "display_data"
    }
   ],
   "source": [
    "# Using seabron to create a linear fit\n",
    "sns.lmplot('age','goal_weight_kg',data = users_df)"
   ]
  },
  {
   "cell_type": "code",
   "execution_count": 39,
   "metadata": {
    "collapsed": false
   },
   "outputs": [
    {
     "data": {
      "text/plain": [
       "<seaborn.axisgrid.FacetGrid at 0x124907c50>"
      ]
     },
     "execution_count": 39,
     "metadata": {},
     "output_type": "execute_result"
    },
    {
     "data": {
      "image/png": "[encoded data removed]",
      "text/plain": [
       "<matplotlib.figure.Figure at 0x1231947d0>"
      ]
     },
     "metadata": {},
     "output_type": "display_data"
    }
   ],
   "source": [
    "#Searching of users characteristics\n",
    "sns.factorplot('gender', kind=\"count\", data=users_df)"
   ]
  },
  {
   "cell_type": "code",
   "execution_count": 54,
   "metadata": {
    "collapsed": false
   },
   "outputs": [
    {
     "data": {
      "text/plain": [
       "<seaborn.axisgrid.FacetGrid at 0x12b750a50>"
      ]
     },
     "execution_count": 54,
     "metadata": {},
     "output_type": "execute_result"
    },
    {
     "data": {
      "image/png": "[encoded data removed]",
      "text/plain": [
       "<matplotlib.figure.Figure at 0x12c029090>"
      ]
     },
     "metadata": {},
     "output_type": "display_data"
    }
   ],
   "source": [
    "# Factorplot the affiliation by Population\n",
    "#sns.factorplot('goal_weight_kg', kind=\"count\", data=users_df,hue='gender') point, bar, count, c, violin, strip}\n",
    "sns.factorplot(x=\"gender\", y=\"goal_weight_kg\", kind=\"violin\", data=users_df)"
   ]
  },
  {
   "cell_type": "code",
   "execution_count": null,
   "metadata": {
    "collapsed": true
   },
   "outputs": [],
   "source": [
    "#Age Goal Weight"
   ]
  },
  {
   "cell_type": "code",
   "execution_count": 75,
   "metadata": {
    "collapsed": false
   },
   "outputs": [
    {
     "data": {
      "text/html": [
       "<div>\n",
       "<table border=\"1\" class=\"dataframe\">\n",
       "  <thead>\n",
       "    <tr style=\"text-align: right;\">\n",
       "      <th></th>\n",
       "      <th>bim_range</th>\n",
       "      <th>categories</th>\n",
       "    </tr>\n",
       "  </thead>\n",
       "  <tbody>\n",
       "    <tr>\n",
       "      <th>0</th>\n",
       "      <td>&lt;18.5</td>\n",
       "      <td>underweight</td>\n",
       "    </tr>\n",
       "    <tr>\n",
       "      <th>1</th>\n",
       "      <td>18.5–24.9</td>\n",
       "      <td>normal_weight</td>\n",
       "    </tr>\n",
       "    <tr>\n",
       "      <th>2</th>\n",
       "      <td>25–29.9</td>\n",
       "      <td>overweight</td>\n",
       "    </tr>\n",
       "    <tr>\n",
       "      <th>3</th>\n",
       "      <td>&gt;30</td>\n",
       "      <td>obesity</td>\n",
       "    </tr>\n",
       "  </tbody>\n",
       "</table>\n",
       "</div>"
      ],
      "text/plain": [
       "   bim_range     categories\n",
       "0      <18.5    underweight\n",
       "1  18.5–24.9  normal_weight\n",
       "2    25–29.9     overweight\n",
       "3        >30        obesity"
      ]
     },
     "execution_count": 75,
     "metadata": {},
     "output_type": "execute_result"
    }
   ],
   "source": [
    "#Define a BIM referential (from https://www.nhlbi.nih.gov/health/educational/lose_wt/BMI/bmi-m.htm)\n",
    "\n",
    "#Two lists to implement my referential\n",
    "categories = ['underweight','normal_weight', 'overweight','obesity']\n",
    "bim_range = ['<18.5', '[18.5;25[', '[25–30]', '>30']\n",
    "\n",
    "#Dataframe creation\n",
    "d = {'categories':categories,'bim_range':bim_range}\n",
    "bim_df = pd.DataFrame(d)\n",
    "\n",
    "bim_df.head()"
   ]
  },
  {
   "cell_type": "code",
   "execution_count": 160,
   "metadata": {
    "collapsed": false
   },
   "outputs": [],
   "source": [
    "#Categorize users target bim (step 1)\n",
    "\n",
    "#Calculate the numeric value\n",
    "bim_num = []\n",
    "\n",
    "for i in range (len(users_df['user_id'])):\n",
    "    bim_num.append(users_df['goal_weight_kg'][i]/((users_df['height_cm'][i]*0.01)**2))\n",
    "    "
   ]
  },
  {
   "cell_type": "code",
   "execution_count": 162,
   "metadata": {
    "collapsed": false
   },
   "outputs": [],
   "source": [
    "#Categorize users target bim (step 2)\n",
    "\n",
    "#Identify the label\n",
    "bim_cat = []\n",
    "\n",
    "for i in range (len(bim_num)):\n",
    "    \n",
    "    if bim_num[i] < 18.5:\n",
    "        bim_cat.append(bim_df['categories'][0])\n",
    "        \n",
    "    elif 18.5 <= bim_num[i] < 25:\n",
    "        bim_cat.append(bim_df['categories'][1])\n",
    "    \n",
    "    elif 25 <= bim_num[i] <= 30:\n",
    "        bim_cat.append(bim_df['categories'][2])\n",
    "        \n",
    "    elif bim_num[i] > 30:\n",
    "        bim_cat.append(bim_df['categories'][3])\n",
    "    \n",
    "    else:\n",
    "        bim_cat.append(np.nan)"
   ]
  },
  {
   "cell_type": "code",
   "execution_count": 163,
   "metadata": {
    "collapsed": false
   },
   "outputs": [],
   "source": [
    "#Enrich the dataframe\n",
    "users_df['bim_num'] = bim_num\n",
    "users_df['bim_cat'] = bim_cat"
   ]
  },
  {
   "cell_type": "code",
   "execution_count": 164,
   "metadata": {
    "collapsed": false
   },
   "outputs": [
    {
     "name": "stdout",
     "output_type": "stream",
     "text": [
      "<class 'pandas.core.frame.DataFrame'>\n",
      "RangeIndex: 5810 entries, 0 to 5809\n",
      "Data columns (total 12 columns):\n",
      "Unnamed: 0        5810 non-null int64\n",
      "user_id           5810 non-null int64\n",
      "start_date        5810 non-null object\n",
      "height_cm         5809 non-null float64\n",
      "age               5810 non-null int64\n",
      "country           5808 non-null object\n",
      "language          5810 non-null object\n",
      "gender            5810 non-null object\n",
      "timezone          5809 non-null object\n",
      "goal_weight_kg    5810 non-null float64\n",
      "bim_num           5809 non-null float64\n",
      "bim_cat           5809 non-null object\n",
      "dtypes: float64(3), int64(3), object(6)\n",
      "memory usage: 544.8+ KB\n"
     ]
    }
   ],
   "source": [
    "users_df.info()"
   ]
  },
  {
   "cell_type": "code",
   "execution_count": 165,
   "metadata": {
    "collapsed": false
   },
   "outputs": [
    {
     "data": {
      "text/html": [
       "<div>\n",
       "<table border=\"1\" class=\"dataframe\">\n",
       "  <thead>\n",
       "    <tr style=\"text-align: right;\">\n",
       "      <th></th>\n",
       "      <th>Unnamed: 0</th>\n",
       "      <th>user_id</th>\n",
       "      <th>start_date</th>\n",
       "      <th>height_cm</th>\n",
       "      <th>age</th>\n",
       "      <th>country</th>\n",
       "      <th>language</th>\n",
       "      <th>gender</th>\n",
       "      <th>timezone</th>\n",
       "      <th>goal_weight_kg</th>\n",
       "      <th>bim_num</th>\n",
       "      <th>bim_cat</th>\n",
       "    </tr>\n",
       "  </thead>\n",
       "  <tbody>\n",
       "    <tr>\n",
       "      <th>0</th>\n",
       "      <td>0</td>\n",
       "      <td>24822001</td>\n",
       "      <td>2017-09-14</td>\n",
       "      <td>NaN</td>\n",
       "      <td>18</td>\n",
       "      <td>BR</td>\n",
       "      <td>pt</td>\n",
       "      <td>f</td>\n",
       "      <td>2017-09-14 00:00:00 FNT-0200</td>\n",
       "      <td>178.7</td>\n",
       "      <td>NaN</td>\n",
       "      <td>NaN</td>\n",
       "    </tr>\n",
       "    <tr>\n",
       "      <th>1</th>\n",
       "      <td>1</td>\n",
       "      <td>23529201</td>\n",
       "      <td>2017-07-12</td>\n",
       "      <td>50.0</td>\n",
       "      <td>23</td>\n",
       "      <td>NL</td>\n",
       "      <td>nl</td>\n",
       "      <td>m</td>\n",
       "      <td>2017-07-12 00:00:00 CEST+0200</td>\n",
       "      <td>50.0</td>\n",
       "      <td>200.000000</td>\n",
       "      <td>obesity</td>\n",
       "    </tr>\n",
       "    <tr>\n",
       "      <th>2</th>\n",
       "      <td>2</td>\n",
       "      <td>24352001</td>\n",
       "      <td>2017-08-21</td>\n",
       "      <td>50.0</td>\n",
       "      <td>20</td>\n",
       "      <td>US</td>\n",
       "      <td>en</td>\n",
       "      <td>f</td>\n",
       "      <td>2017-08-21 00:00:00 EDT-0400</td>\n",
       "      <td>57.2</td>\n",
       "      <td>228.800000</td>\n",
       "      <td>obesity</td>\n",
       "    </tr>\n",
       "    <tr>\n",
       "      <th>3</th>\n",
       "      <td>3</td>\n",
       "      <td>23379001</td>\n",
       "      <td>2017-07-05</td>\n",
       "      <td>52.0</td>\n",
       "      <td>26</td>\n",
       "      <td>GB</td>\n",
       "      <td>en</td>\n",
       "      <td>f</td>\n",
       "      <td>2017-07-05 00:00:00 IST+0530</td>\n",
       "      <td>33.1</td>\n",
       "      <td>122.411243</td>\n",
       "      <td>obesity</td>\n",
       "    </tr>\n",
       "    <tr>\n",
       "      <th>4</th>\n",
       "      <td>4</td>\n",
       "      <td>24776001</td>\n",
       "      <td>2017-09-12</td>\n",
       "      <td>52.0</td>\n",
       "      <td>23</td>\n",
       "      <td>CA</td>\n",
       "      <td>en</td>\n",
       "      <td>f</td>\n",
       "      <td>2017-09-12 00:00:00 EDT-0400</td>\n",
       "      <td>70.0</td>\n",
       "      <td>258.875740</td>\n",
       "      <td>obesity</td>\n",
       "    </tr>\n",
       "  </tbody>\n",
       "</table>\n",
       "</div>"
      ],
      "text/plain": [
       "   Unnamed: 0   user_id  start_date  height_cm  age country language gender  \\\n",
       "0           0  24822001  2017-09-14        NaN   18      BR       pt      f   \n",
       "1           1  23529201  2017-07-12       50.0   23      NL       nl      m   \n",
       "2           2  24352001  2017-08-21       50.0   20      US       en      f   \n",
       "3           3  23379001  2017-07-05       52.0   26      GB       en      f   \n",
       "4           4  24776001  2017-09-12       52.0   23      CA       en      f   \n",
       "\n",
       "                        timezone  goal_weight_kg     bim_num  bim_cat  \n",
       "0   2017-09-14 00:00:00 FNT-0200           178.7         NaN      NaN  \n",
       "1  2017-07-12 00:00:00 CEST+0200            50.0  200.000000  obesity  \n",
       "2   2017-08-21 00:00:00 EDT-0400            57.2  228.800000  obesity  \n",
       "3   2017-07-05 00:00:00 IST+0530            33.1  122.411243  obesity  \n",
       "4   2017-09-12 00:00:00 EDT-0400            70.0  258.875740  obesity  "
      ]
     },
     "execution_count": 165,
     "metadata": {},
     "output_type": "execute_result"
    }
   ],
   "source": [
    "users_df.head()"
   ]
  },
  {
   "cell_type": "code",
   "execution_count": null,
   "metadata": {
    "collapsed": true
   },
   "outputs": [],
   "source": []
  }
 ],
 "metadata": {
  "anaconda-cloud": {},
  "kernelspec": {
   "display_name": "Python [conda root]",
   "language": "python",
   "name": "conda-root-py"
  },
  "language_info": {
   "codemirror_mode": {
    "name": "ipython",
    "version": 2
   },
   "file_extension": ".py",
   "mimetype": "text/x-python",
   "name": "python",
   "nbconvert_exporter": "python",
   "pygments_lexer": "ipython2",
   "version": "2.7.13"
  }
 },
 "nbformat": 4,
 "nbformat_minor": 1
}
