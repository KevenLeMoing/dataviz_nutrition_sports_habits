{
 "cells": [
  {
   "cell_type": "code",
   "execution_count": 1,
   "metadata": {
    "collapsed": true
   },
   "outputs": [],
   "source": [
    "# For data\n",
    "import pandas as pd\n",
    "from pandas import Series,DataFrame\n",
    "import numpy as np\n",
    "from datetime import datetime, timedelta\n",
    "import pytz\n",
    "from pytz import timezone\n",
    "\n",
    "from __future__ import division"
   ]
  },
  {
   "cell_type": "code",
   "execution_count": 2,
   "metadata": {
    "collapsed": false
   },
   "outputs": [
    {
     "name": "stderr",
     "output_type": "stream",
     "text": [
      "/Users/kevenlemoing/anaconda/lib/python2.7/site-packages/ipykernel/__main__.py:10: SettingWithCopyWarning: \n",
      "A value is trying to be set on a copy of a slice from a DataFrame\n",
      "\n",
      "See the caveats in the documentation: http://pandas.pydata.org/pandas-docs/stable/indexing.html#indexing-view-versus-copy\n",
      "/Users/kevenlemoing/anaconda/lib/python2.7/site-packages/ipykernel/__main__.py:15: SettingWithCopyWarning: \n",
      "A value is trying to be set on a copy of a slice from a DataFrame\n",
      "\n",
      "See the caveats in the documentation: http://pandas.pydata.org/pandas-docs/stable/indexing.html#indexing-view-versus-copy\n"
     ]
    }
   ],
   "source": [
    "users_df = pd.read_csv('/Users/kevenlemoing/Sites/Lifesum_assignement/data/users.csv',error_bad_lines=False)\n",
    "users_df['age'] = users_df['age'].astype(int)\n",
    "users_df['start_date'] = pd.to_datetime(users_df['start_date'])\n",
    "timezone_repo = pytz.all_timezones\n",
    "\n",
    "for i in range (len(users_df['gender'])):\n",
    "    if pd.notnull(users_df['country'][i]):\n",
    "        if users_df['timezone'][i] not in timezone_repo:\n",
    "            country_list = pytz.country_timezones[users_df['country'][i]]\n",
    "            users_df['timezone'][i] = str(country_list[0])\n",
    "        timezone = pytz.timezone(users_df['timezone'][i])\n",
    "        fmt = '%Y-%m-%d %H:%M:%S %Z%z'\n",
    "        loc_dt = timezone.localize(users_df['start_date'][i])\n",
    "        timezone_dt = loc_dt.astimezone(timezone)\n",
    "        users_df['timezone'][i] = timezone_dt.strftime(fmt)"
   ]
  },
  {
   "cell_type": "code",
   "execution_count": 3,
   "metadata": {
    "collapsed": false
   },
   "outputs": [
    {
     "data": {
      "text/html": [
       "<div>\n",
       "<table border=\"1\" class=\"dataframe\">\n",
       "  <thead>\n",
       "    <tr style=\"text-align: right;\">\n",
       "      <th></th>\n",
       "      <th>user_id</th>\n",
       "      <th>start_date</th>\n",
       "      <th>height_cm</th>\n",
       "      <th>age</th>\n",
       "      <th>country</th>\n",
       "      <th>language</th>\n",
       "      <th>gender</th>\n",
       "      <th>timezone</th>\n",
       "      <th>goal_weight_kg</th>\n",
       "    </tr>\n",
       "  </thead>\n",
       "  <tbody>\n",
       "    <tr>\n",
       "      <th>0</th>\n",
       "      <td>24822001</td>\n",
       "      <td>2017-09-14</td>\n",
       "      <td>NaN</td>\n",
       "      <td>18</td>\n",
       "      <td>BR</td>\n",
       "      <td>pt</td>\n",
       "      <td>f</td>\n",
       "      <td>2017-09-14 00:00:00 FNT-0200</td>\n",
       "      <td>178.7</td>\n",
       "    </tr>\n",
       "    <tr>\n",
       "      <th>1</th>\n",
       "      <td>23529201</td>\n",
       "      <td>2017-07-12</td>\n",
       "      <td>50.0</td>\n",
       "      <td>23</td>\n",
       "      <td>NL</td>\n",
       "      <td>nl</td>\n",
       "      <td>m</td>\n",
       "      <td>2017-07-12 00:00:00 CEST+0200</td>\n",
       "      <td>50.0</td>\n",
       "    </tr>\n",
       "    <tr>\n",
       "      <th>2</th>\n",
       "      <td>24352001</td>\n",
       "      <td>2017-08-21</td>\n",
       "      <td>50.0</td>\n",
       "      <td>20</td>\n",
       "      <td>US</td>\n",
       "      <td>en</td>\n",
       "      <td>f</td>\n",
       "      <td>2017-08-21 00:00:00 EDT-0400</td>\n",
       "      <td>57.2</td>\n",
       "    </tr>\n",
       "    <tr>\n",
       "      <th>3</th>\n",
       "      <td>23379001</td>\n",
       "      <td>2017-07-05</td>\n",
       "      <td>52.0</td>\n",
       "      <td>26</td>\n",
       "      <td>GB</td>\n",
       "      <td>en</td>\n",
       "      <td>f</td>\n",
       "      <td>2017-07-05 00:00:00 IST+0530</td>\n",
       "      <td>33.1</td>\n",
       "    </tr>\n",
       "    <tr>\n",
       "      <th>4</th>\n",
       "      <td>24776001</td>\n",
       "      <td>2017-09-12</td>\n",
       "      <td>52.0</td>\n",
       "      <td>23</td>\n",
       "      <td>CA</td>\n",
       "      <td>en</td>\n",
       "      <td>f</td>\n",
       "      <td>2017-09-12 00:00:00 EDT-0400</td>\n",
       "      <td>70.0</td>\n",
       "    </tr>\n",
       "  </tbody>\n",
       "</table>\n",
       "</div>"
      ],
      "text/plain": [
       "    user_id start_date  height_cm  age country language gender  \\\n",
       "0  24822001 2017-09-14        NaN   18      BR       pt      f   \n",
       "1  23529201 2017-07-12       50.0   23      NL       nl      m   \n",
       "2  24352001 2017-08-21       50.0   20      US       en      f   \n",
       "3  23379001 2017-07-05       52.0   26      GB       en      f   \n",
       "4  24776001 2017-09-12       52.0   23      CA       en      f   \n",
       "\n",
       "                        timezone  goal_weight_kg  \n",
       "0   2017-09-14 00:00:00 FNT-0200           178.7  \n",
       "1  2017-07-12 00:00:00 CEST+0200            50.0  \n",
       "2   2017-08-21 00:00:00 EDT-0400            57.2  \n",
       "3   2017-07-05 00:00:00 IST+0530            33.1  \n",
       "4   2017-09-12 00:00:00 EDT-0400            70.0  "
      ]
     },
     "execution_count": 3,
     "metadata": {},
     "output_type": "execute_result"
    }
   ],
   "source": [
    "users_df.head()"
   ]
  },
  {
   "cell_type": "code",
   "execution_count": 5,
   "metadata": {
    "collapsed": false
   },
   "outputs": [],
   "source": [
    "users_df.to_csv('/Users/kevenlemoing/Sites/lifesum_assignement/data/users_timezone.csv')"
   ]
  },
  {
   "cell_type": "code",
   "execution_count": null,
   "metadata": {
    "collapsed": true
   },
   "outputs": [],
   "source": []
  }
 ],
 "metadata": {
  "kernelspec": {
   "display_name": "Python [conda root]",
   "language": "python",
   "name": "conda-root-py"
  },
  "language_info": {
   "codemirror_mode": {
    "name": "ipython",
    "version": 2
   },
   "file_extension": ".py",
   "mimetype": "text/x-python",
   "name": "python",
   "nbconvert_exporter": "python",
   "pygments_lexer": "ipython2",
   "version": "2.7.13"
  }
 },
 "nbformat": 4,
 "nbformat_minor": 1
}
