{
 "cells": [
  {
   "cell_type": "code",
   "execution_count": 8,
   "metadata": {
    "collapsed": false
   },
   "outputs": [],
   "source": [
    "# For data\n",
    "import pandas as pd\n",
    "from pandas import Series,DataFrame\n",
    "import numpy as np\n",
    "from datetime import datetime, timedelta\n",
    "import pytz\n",
    "from pytz import timezone\n",
    "from pandas.io import sql\n",
    "import pymysql.cursors\n",
    "from langdetect import detect\n",
    "\n",
    "# For visualization\n",
    "import matplotlib.pyplot as plt\n",
    "import seaborn as sns\n",
    "sns.set_style('whitegrid')\n",
    "%matplotlib inline\n",
    "\n",
    "from __future__ import division"
   ]
  },
  {
   "cell_type": "code",
   "execution_count": 9,
   "metadata": {
    "collapsed": false
   },
   "outputs": [
    {
     "data": {
      "text/html": [
       "<div>\n",
       "<table border=\"1\" class=\"dataframe\">\n",
       "  <thead>\n",
       "    <tr style=\"text-align: right;\">\n",
       "      <th></th>\n",
       "      <th>food_item_id</th>\n",
       "      <th>user_id</th>\n",
       "      <th>date</th>\n",
       "      <th>meal</th>\n",
       "      <th>title</th>\n",
       "      <th>brand</th>\n",
       "      <th>calories</th>\n",
       "      <th>protein</th>\n",
       "      <th>fat</th>\n",
       "      <th>carbohydrates</th>\n",
       "    </tr>\n",
       "  </thead>\n",
       "  <tbody>\n",
       "    <tr>\n",
       "      <th>0</th>\n",
       "      <td>2365765334</td>\n",
       "      <td>24943001</td>\n",
       "      <td>2017-11-26</td>\n",
       "      <td>breakfast</td>\n",
       "      <td>салат капуста огурец</td>\n",
       "      <td>NaN</td>\n",
       "      <td>30.0</td>\n",
       "      <td>0.8</td>\n",
       "      <td>1.8</td>\n",
       "      <td>3.3</td>\n",
       "    </tr>\n",
       "    <tr>\n",
       "      <th>1</th>\n",
       "      <td>2452562629</td>\n",
       "      <td>24633201</td>\n",
       "      <td>2018-01-15</td>\n",
       "      <td>lunch</td>\n",
       "      <td>салат капуста огурец</td>\n",
       "      <td>NaN</td>\n",
       "      <td>30.0</td>\n",
       "      <td>0.8</td>\n",
       "      <td>1.8</td>\n",
       "      <td>3.3</td>\n",
       "    </tr>\n",
       "    <tr>\n",
       "      <th>2</th>\n",
       "      <td>2338843253</td>\n",
       "      <td>24633201</td>\n",
       "      <td>2017-11-10</td>\n",
       "      <td>lunch</td>\n",
       "      <td>салат капуста огурец</td>\n",
       "      <td>NaN</td>\n",
       "      <td>30.0</td>\n",
       "      <td>0.8</td>\n",
       "      <td>1.8</td>\n",
       "      <td>3.3</td>\n",
       "    </tr>\n",
       "    <tr>\n",
       "      <th>3</th>\n",
       "      <td>2455280425</td>\n",
       "      <td>24633201</td>\n",
       "      <td>2018-01-16</td>\n",
       "      <td>lunch</td>\n",
       "      <td>салат капуста огурец</td>\n",
       "      <td>NaN</td>\n",
       "      <td>30.0</td>\n",
       "      <td>0.8</td>\n",
       "      <td>1.8</td>\n",
       "      <td>3.3</td>\n",
       "    </tr>\n",
       "    <tr>\n",
       "      <th>4</th>\n",
       "      <td>2394845446</td>\n",
       "      <td>24633201</td>\n",
       "      <td>2017-12-14</td>\n",
       "      <td>lunch</td>\n",
       "      <td>салат капуста огурец</td>\n",
       "      <td>NaN</td>\n",
       "      <td>30.0</td>\n",
       "      <td>0.8</td>\n",
       "      <td>1.8</td>\n",
       "      <td>3.3</td>\n",
       "    </tr>\n",
       "  </tbody>\n",
       "</table>\n",
       "</div>"
      ],
      "text/plain": [
       "   food_item_id   user_id        date       meal                 title brand  \\\n",
       "0    2365765334  24943001  2017-11-26  breakfast  салат капуста огурец   NaN   \n",
       "1    2452562629  24633201  2018-01-15      lunch  салат капуста огурец   NaN   \n",
       "2    2338843253  24633201  2017-11-10      lunch  салат капуста огурец   NaN   \n",
       "3    2455280425  24633201  2018-01-16      lunch  салат капуста огурец   NaN   \n",
       "4    2394845446  24633201  2017-12-14      lunch  салат капуста огурец   NaN   \n",
       "\n",
       "   calories  protein  fat  carbohydrates  \n",
       "0      30.0      0.8  1.8            3.3  \n",
       "1      30.0      0.8  1.8            3.3  \n",
       "2      30.0      0.8  1.8            3.3  \n",
       "3      30.0      0.8  1.8            3.3  \n",
       "4      30.0      0.8  1.8            3.3  "
      ]
     },
     "execution_count": 9,
     "metadata": {},
     "output_type": "execute_result"
    }
   ],
   "source": [
    "food_df = pd.read_csv('/Users/kevenlemoing/Sites/Lifesum_assignement/data/food.csv',error_bad_lines=False)\n",
    "food_df.head()"
   ]
  },
  {
   "cell_type": "code",
   "execution_count": 10,
   "metadata": {
    "collapsed": false
   },
   "outputs": [
    {
     "name": "stdout",
     "output_type": "stream",
     "text": [
      "<class 'pandas.core.frame.DataFrame'>\n",
      "RangeIndex: 351098 entries, 0 to 351097\n",
      "Data columns (total 10 columns):\n",
      "food_item_id     351098 non-null int64\n",
      "user_id          351098 non-null int64\n",
      "date             351098 non-null object\n",
      "meal             351098 non-null object\n",
      "title            351097 non-null object\n",
      "brand            108062 non-null object\n",
      "calories         351098 non-null float64\n",
      "protein          351098 non-null float64\n",
      "fat              351098 non-null float64\n",
      "carbohydrates    351098 non-null float64\n",
      "dtypes: float64(4), int64(2), object(4)\n",
      "memory usage: 26.8+ MB\n"
     ]
    }
   ],
   "source": [
    "food_df.info()"
   ]
  },
  {
   "cell_type": "code",
   "execution_count": 11,
   "metadata": {
    "collapsed": false
   },
   "outputs": [
    {
     "data": {
      "text/html": [
       "<div>\n",
       "<table border=\"1\" class=\"dataframe\">\n",
       "  <thead>\n",
       "    <tr style=\"text-align: right;\">\n",
       "      <th></th>\n",
       "      <th>food_item_id</th>\n",
       "      <th>user_id</th>\n",
       "      <th>date</th>\n",
       "      <th>meal</th>\n",
       "      <th>calories</th>\n",
       "      <th>protein</th>\n",
       "      <th>fat</th>\n",
       "      <th>carbohydrates</th>\n",
       "    </tr>\n",
       "  </thead>\n",
       "  <tbody>\n",
       "    <tr>\n",
       "      <th>0</th>\n",
       "      <td>2365765334</td>\n",
       "      <td>24943001</td>\n",
       "      <td>2017-11-26</td>\n",
       "      <td>breakfast</td>\n",
       "      <td>30.0</td>\n",
       "      <td>0.8</td>\n",
       "      <td>1.8</td>\n",
       "      <td>3.3</td>\n",
       "    </tr>\n",
       "    <tr>\n",
       "      <th>1</th>\n",
       "      <td>2452562629</td>\n",
       "      <td>24633201</td>\n",
       "      <td>2018-01-15</td>\n",
       "      <td>lunch</td>\n",
       "      <td>30.0</td>\n",
       "      <td>0.8</td>\n",
       "      <td>1.8</td>\n",
       "      <td>3.3</td>\n",
       "    </tr>\n",
       "    <tr>\n",
       "      <th>2</th>\n",
       "      <td>2338843253</td>\n",
       "      <td>24633201</td>\n",
       "      <td>2017-11-10</td>\n",
       "      <td>lunch</td>\n",
       "      <td>30.0</td>\n",
       "      <td>0.8</td>\n",
       "      <td>1.8</td>\n",
       "      <td>3.3</td>\n",
       "    </tr>\n",
       "    <tr>\n",
       "      <th>3</th>\n",
       "      <td>2455280425</td>\n",
       "      <td>24633201</td>\n",
       "      <td>2018-01-16</td>\n",
       "      <td>lunch</td>\n",
       "      <td>30.0</td>\n",
       "      <td>0.8</td>\n",
       "      <td>1.8</td>\n",
       "      <td>3.3</td>\n",
       "    </tr>\n",
       "    <tr>\n",
       "      <th>4</th>\n",
       "      <td>2394845446</td>\n",
       "      <td>24633201</td>\n",
       "      <td>2017-12-14</td>\n",
       "      <td>lunch</td>\n",
       "      <td>30.0</td>\n",
       "      <td>0.8</td>\n",
       "      <td>1.8</td>\n",
       "      <td>3.3</td>\n",
       "    </tr>\n",
       "  </tbody>\n",
       "</table>\n",
       "</div>"
      ],
      "text/plain": [
       "   food_item_id   user_id        date       meal  calories  protein  fat  \\\n",
       "0    2365765334  24943001  2017-11-26  breakfast      30.0      0.8  1.8   \n",
       "1    2452562629  24633201  2018-01-15      lunch      30.0      0.8  1.8   \n",
       "2    2338843253  24633201  2017-11-10      lunch      30.0      0.8  1.8   \n",
       "3    2455280425  24633201  2018-01-16      lunch      30.0      0.8  1.8   \n",
       "4    2394845446  24633201  2017-12-14      lunch      30.0      0.8  1.8   \n",
       "\n",
       "   carbohydrates  \n",
       "0            3.3  \n",
       "1            3.3  \n",
       "2            3.3  \n",
       "3            3.3  \n",
       "4            3.3  "
      ]
     },
     "execution_count": 11,
     "metadata": {},
     "output_type": "execute_result"
    }
   ],
   "source": [
    "#Because of the diversity of encoding and languages used in the description field \"exercice\", \n",
    "#I make the choice to remove it and don't use it for MySQL purposes \n",
    "food_df = food_df.drop('title',1)\n",
    "food_df = food_df.drop('brand',1)\n",
    "food_df.head()"
   ]
  },
  {
   "cell_type": "code",
   "execution_count": 12,
   "metadata": {
    "collapsed": false
   },
   "outputs": [],
   "source": [
    "#Save to the MySQL DB, in the table food\n",
    "\n",
    "# Connect to the database\n",
    "connection = pymysql.connect(host='localhost',\n",
    "                             user='root',\n",
    "                             password='root',\n",
    "                             db='lifesum',\n",
    "                             charset='utf8',\n",
    "                             cursorclass=pymysql.cursors.DictCursor)\n",
    "\n",
    "food_df.to_sql(con=connection, name='food', if_exists='replace', flavor='mysql')\n"
   ]
  },
  {
   "cell_type": "code",
   "execution_count": null,
   "metadata": {
    "collapsed": true
   },
   "outputs": [],
   "source": [
    "#TO DO (about cleaning)\n",
    "##Remove NaN values\n",
    "##Data integrity with protein, calories, fat and carbohydrates \n",
    "##--> If information about meal, title and brand are the same do we refind same value in fields mentioned above ? \n",
    "##--> check it for same users AND for different users"
   ]
  }
 ],
 "metadata": {
  "anaconda-cloud": {},
  "kernelspec": {
   "display_name": "Python [conda root]",
   "language": "python",
   "name": "conda-root-py"
  },
  "language_info": {
   "codemirror_mode": {
    "name": "ipython",
    "version": 2
   },
   "file_extension": ".py",
   "mimetype": "text/x-python",
   "name": "python",
   "nbconvert_exporter": "python",
   "pygments_lexer": "ipython2",
   "version": "2.7.13"
  }
 },
 "nbformat": 4,
 "nbformat_minor": 1
}
