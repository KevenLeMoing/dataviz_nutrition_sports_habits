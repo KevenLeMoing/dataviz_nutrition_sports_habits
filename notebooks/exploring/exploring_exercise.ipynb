{
 "cells": [
  {
   "cell_type": "code",
   "execution_count": 18,
   "metadata": {
    "collapsed": true
   },
   "outputs": [],
   "source": [
    "# For data\n",
    "import pandas as pd\n",
    "from pandas import Series,DataFrame\n",
    "import numpy as np\n",
    "from datetime import datetime, timedelta\n",
    "import pytz\n",
    "from pytz import timezone\n",
    "from pandas.io import sql\n",
    "import pymysql.cursors\n",
    "from langdetect import detect\n",
    "\n",
    "# For visualization\n",
    "import matplotlib.pyplot as plt\n",
    "import seaborn as sns\n",
    "sns.set_style('whitegrid')\n",
    "%matplotlib inline\n",
    "\n",
    "from __future__ import division"
   ]
  },
  {
   "cell_type": "code",
   "execution_count": 19,
   "metadata": {
    "collapsed": false
   },
   "outputs": [
    {
     "data": {
      "text/html": [
       "<div>\n",
       "<table border=\"1\" class=\"dataframe\">\n",
       "  <thead>\n",
       "    <tr style=\"text-align: right;\">\n",
       "      <th></th>\n",
       "      <th>user_id</th>\n",
       "      <th>date</th>\n",
       "      <th>exercise</th>\n",
       "      <th>calories</th>\n",
       "    </tr>\n",
       "  </thead>\n",
       "  <tbody>\n",
       "    <tr>\n",
       "      <th>0</th>\n",
       "      <td>23462401</td>\n",
       "      <td>2017-07-10</td>\n",
       "      <td>Circuit training</td>\n",
       "      <td>218.7</td>\n",
       "    </tr>\n",
       "    <tr>\n",
       "      <th>1</th>\n",
       "      <td>25100801</td>\n",
       "      <td>2017-09-30</td>\n",
       "      <td>Marche, normale 3 mph (5 km/h)</td>\n",
       "      <td>65.1</td>\n",
       "    </tr>\n",
       "    <tr>\n",
       "      <th>2</th>\n",
       "      <td>25100801</td>\n",
       "      <td>2017-09-30</td>\n",
       "      <td>Course à 8 mph (12,9 km/h)</td>\n",
       "      <td>288.9</td>\n",
       "    </tr>\n",
       "    <tr>\n",
       "      <th>3</th>\n",
       "      <td>24774401</td>\n",
       "      <td>2017-09-11</td>\n",
       "      <td>Rope jumping</td>\n",
       "      <td>35.0</td>\n",
       "    </tr>\n",
       "    <tr>\n",
       "      <th>4</th>\n",
       "      <td>24774401</td>\n",
       "      <td>2017-09-11</td>\n",
       "      <td>Stair Master</td>\n",
       "      <td>117.5</td>\n",
       "    </tr>\n",
       "  </tbody>\n",
       "</table>\n",
       "</div>"
      ],
      "text/plain": [
       "    user_id        date                        exercise  calories\n",
       "0  23462401  2017-07-10                Circuit training     218.7\n",
       "1  25100801  2017-09-30  Marche, normale 3 mph (5 km/h)      65.1\n",
       "2  25100801  2017-09-30      Course à 8 mph (12,9 km/h)     288.9\n",
       "3  24774401  2017-09-11                    Rope jumping      35.0\n",
       "4  24774401  2017-09-11                    Stair Master     117.5"
      ]
     },
     "execution_count": 19,
     "metadata": {},
     "output_type": "execute_result"
    }
   ],
   "source": [
    "ex_df = pd.read_csv('/Users/kevenlemoing/Sites/lifesum_assignement/data/exercise.csv',error_bad_lines=False)\n",
    "ex_df.head()"
   ]
  },
  {
   "cell_type": "code",
   "execution_count": 20,
   "metadata": {
    "collapsed": false
   },
   "outputs": [
    {
     "name": "stdout",
     "output_type": "stream",
     "text": [
      "<class 'pandas.core.frame.DataFrame'>\n",
      "RangeIndex: 39525 entries, 0 to 39524\n",
      "Data columns (total 4 columns):\n",
      "user_id     39525 non-null int64\n",
      "date        39525 non-null object\n",
      "exercise    39525 non-null object\n",
      "calories    39525 non-null float64\n",
      "dtypes: float64(1), int64(1), object(2)\n",
      "memory usage: 1.2+ MB\n"
     ]
    }
   ],
   "source": [
    "ex_df.info()"
   ]
  },
  {
   "cell_type": "code",
   "execution_count": 21,
   "metadata": {
    "collapsed": false
   },
   "outputs": [
    {
     "data": {
      "text/html": [
       "<div>\n",
       "<table border=\"1\" class=\"dataframe\">\n",
       "  <thead>\n",
       "    <tr style=\"text-align: right;\">\n",
       "      <th></th>\n",
       "      <th>user_id</th>\n",
       "      <th>date</th>\n",
       "      <th>calories</th>\n",
       "    </tr>\n",
       "  </thead>\n",
       "  <tbody>\n",
       "    <tr>\n",
       "      <th>0</th>\n",
       "      <td>23462401</td>\n",
       "      <td>2017-07-10</td>\n",
       "      <td>218.7</td>\n",
       "    </tr>\n",
       "    <tr>\n",
       "      <th>1</th>\n",
       "      <td>25100801</td>\n",
       "      <td>2017-09-30</td>\n",
       "      <td>65.1</td>\n",
       "    </tr>\n",
       "    <tr>\n",
       "      <th>2</th>\n",
       "      <td>25100801</td>\n",
       "      <td>2017-09-30</td>\n",
       "      <td>288.9</td>\n",
       "    </tr>\n",
       "    <tr>\n",
       "      <th>3</th>\n",
       "      <td>24774401</td>\n",
       "      <td>2017-09-11</td>\n",
       "      <td>35.0</td>\n",
       "    </tr>\n",
       "    <tr>\n",
       "      <th>4</th>\n",
       "      <td>24774401</td>\n",
       "      <td>2017-09-11</td>\n",
       "      <td>117.5</td>\n",
       "    </tr>\n",
       "  </tbody>\n",
       "</table>\n",
       "</div>"
      ],
      "text/plain": [
       "    user_id        date  calories\n",
       "0  23462401  2017-07-10     218.7\n",
       "1  25100801  2017-09-30      65.1\n",
       "2  25100801  2017-09-30     288.9\n",
       "3  24774401  2017-09-11      35.0\n",
       "4  24774401  2017-09-11     117.5"
      ]
     },
     "execution_count": 21,
     "metadata": {},
     "output_type": "execute_result"
    }
   ],
   "source": [
    "#Because of the diversity of encoding and languages used in the description field \"exercice\", \n",
    "#I make the choice to remove it and don't use it for MySQL purposes\n",
    "ex_df = ex_df.drop('exercise',1)\n",
    "ex_df.head()"
   ]
  },
  {
   "cell_type": "code",
   "execution_count": 22,
   "metadata": {
    "collapsed": false
   },
   "outputs": [],
   "source": [
    "#Save to the MySQL DB, in the table exercise\n",
    "\n",
    "# Connect to the database\n",
    "connection = pymysql.connect(host='localhost',\n",
    "                             user='root',\n",
    "                             password='root',\n",
    "                             db='lifesum',\n",
    "                             charset='utf8',\n",
    "                             cursorclass=pymysql.cursors.DictCursor)\n",
    "\n",
    "ex_df.to_sql(con=connection, name='exercise', if_exists='replace', flavor='mysql')\n"
   ]
  },
  {
   "cell_type": "code",
   "execution_count": null,
   "metadata": {
    "collapsed": true
   },
   "outputs": [],
   "source": []
  }
 ],
 "metadata": {
  "anaconda-cloud": {},
  "kernelspec": {
   "display_name": "Python [conda root]",
   "language": "python",
   "name": "conda-root-py"
  },
  "language_info": {
   "codemirror_mode": {
    "name": "ipython",
    "version": 2
   },
   "file_extension": ".py",
   "mimetype": "text/x-python",
   "name": "python",
   "nbconvert_exporter": "python",
   "pygments_lexer": "ipython2",
   "version": "2.7.13"
  }
 },
 "nbformat": 4,
 "nbformat_minor": 1
}
