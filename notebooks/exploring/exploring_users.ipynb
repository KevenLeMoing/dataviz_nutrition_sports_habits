{
 "cells": [
  {
   "cell_type": "code",
   "execution_count": 2,
   "metadata": {
    "collapsed": false
   },
   "outputs": [],
   "source": [
    "# For data\n",
    "import pandas as pd\n",
    "from pandas import Series,DataFrame\n",
    "import numpy as np\n",
    "from datetime import datetime, timedelta\n",
    "import pytz\n",
    "from pytz import timezone\n",
    "from pandas.io import sql\n",
    "import pymysql.cursors\n",
    "\n",
    "# For visualization\n",
    "import matplotlib.pyplot as plt\n",
    "import seaborn as sns\n",
    "sns.set_style('whitegrid')\n",
    "%matplotlib inline\n",
    "\n",
    "from __future__ import division"
   ]
  },
  {
   "cell_type": "code",
   "execution_count": 3,
   "metadata": {
    "collapsed": false
   },
   "outputs": [
    {
     "data": {
      "text/html": [
       "<div>\n",
       "<table border=\"1\" class=\"dataframe\">\n",
       "  <thead>\n",
       "    <tr style=\"text-align: right;\">\n",
       "      <th></th>\n",
       "      <th>user_id</th>\n",
       "      <th>start_date</th>\n",
       "      <th>height_cm</th>\n",
       "      <th>age</th>\n",
       "      <th>country</th>\n",
       "      <th>language</th>\n",
       "      <th>gender</th>\n",
       "      <th>timezone</th>\n",
       "      <th>goal_weight_kg</th>\n",
       "    </tr>\n",
       "  </thead>\n",
       "  <tbody>\n",
       "    <tr>\n",
       "      <th>0</th>\n",
       "      <td>24822001</td>\n",
       "      <td>2017-09-14</td>\n",
       "      <td>NaN</td>\n",
       "      <td>18.0</td>\n",
       "      <td>BR</td>\n",
       "      <td>pt</td>\n",
       "      <td>f</td>\n",
       "      <td>-03:00</td>\n",
       "      <td>178.7</td>\n",
       "    </tr>\n",
       "    <tr>\n",
       "      <th>1</th>\n",
       "      <td>23529201</td>\n",
       "      <td>2017-07-12</td>\n",
       "      <td>50.0</td>\n",
       "      <td>23.0</td>\n",
       "      <td>NL</td>\n",
       "      <td>nl</td>\n",
       "      <td>m</td>\n",
       "      <td>NaN</td>\n",
       "      <td>50.0</td>\n",
       "    </tr>\n",
       "    <tr>\n",
       "      <th>2</th>\n",
       "      <td>24352001</td>\n",
       "      <td>2017-08-21</td>\n",
       "      <td>50.0</td>\n",
       "      <td>20.0</td>\n",
       "      <td>US</td>\n",
       "      <td>en</td>\n",
       "      <td>f</td>\n",
       "      <td>NaN</td>\n",
       "      <td>57.2</td>\n",
       "    </tr>\n",
       "    <tr>\n",
       "      <th>3</th>\n",
       "      <td>23379001</td>\n",
       "      <td>2017-07-05</td>\n",
       "      <td>52.0</td>\n",
       "      <td>26.0</td>\n",
       "      <td>GB</td>\n",
       "      <td>en</td>\n",
       "      <td>f</td>\n",
       "      <td>Asia/Calcutta</td>\n",
       "      <td>33.1</td>\n",
       "    </tr>\n",
       "    <tr>\n",
       "      <th>4</th>\n",
       "      <td>24776001</td>\n",
       "      <td>2017-09-12</td>\n",
       "      <td>52.0</td>\n",
       "      <td>23.0</td>\n",
       "      <td>CA</td>\n",
       "      <td>en</td>\n",
       "      <td>f</td>\n",
       "      <td>America/Toronto</td>\n",
       "      <td>70.0</td>\n",
       "    </tr>\n",
       "  </tbody>\n",
       "</table>\n",
       "</div>"
      ],
      "text/plain": [
       "    user_id  start_date  height_cm   age country language gender  \\\n",
       "0  24822001  2017-09-14        NaN  18.0      BR       pt      f   \n",
       "1  23529201  2017-07-12       50.0  23.0      NL       nl      m   \n",
       "2  24352001  2017-08-21       50.0  20.0      US       en      f   \n",
       "3  23379001  2017-07-05       52.0  26.0      GB       en      f   \n",
       "4  24776001  2017-09-12       52.0  23.0      CA       en      f   \n",
       "\n",
       "          timezone  goal_weight_kg  \n",
       "0           -03:00           178.7  \n",
       "1              NaN            50.0  \n",
       "2              NaN            57.2  \n",
       "3    Asia/Calcutta            33.1  \n",
       "4  America/Toronto            70.0  "
      ]
     },
     "execution_count": 3,
     "metadata": {},
     "output_type": "execute_result"
    }
   ],
   "source": [
    "users_df = pd.read_csv('/Users/kevenlemoing/Sites/Lifesum_assignement/data/users.csv',error_bad_lines=False)\n",
    "users_df.head()"
   ]
  },
  {
   "cell_type": "code",
   "execution_count": 222,
   "metadata": {
    "collapsed": false
   },
   "outputs": [
    {
     "data": {
      "text/html": [
       "<div>\n",
       "<table border=\"1\" class=\"dataframe\">\n",
       "  <thead>\n",
       "    <tr style=\"text-align: right;\">\n",
       "      <th></th>\n",
       "      <th>user_id</th>\n",
       "      <th>start_date</th>\n",
       "      <th>height_cm</th>\n",
       "      <th>age</th>\n",
       "      <th>country</th>\n",
       "      <th>language</th>\n",
       "      <th>gender</th>\n",
       "      <th>timezone</th>\n",
       "      <th>goal_weight_kg</th>\n",
       "    </tr>\n",
       "  </thead>\n",
       "  <tbody>\n",
       "    <tr>\n",
       "      <th>0</th>\n",
       "      <td>24822001</td>\n",
       "      <td>2017-09-14</td>\n",
       "      <td>NaN</td>\n",
       "      <td>18.0</td>\n",
       "      <td>BR</td>\n",
       "      <td>pt</td>\n",
       "      <td>f</td>\n",
       "      <td>-03:00</td>\n",
       "      <td>178.7</td>\n",
       "    </tr>\n",
       "    <tr>\n",
       "      <th>1</th>\n",
       "      <td>23529201</td>\n",
       "      <td>2017-07-12</td>\n",
       "      <td>50.0</td>\n",
       "      <td>23.0</td>\n",
       "      <td>NL</td>\n",
       "      <td>nl</td>\n",
       "      <td>m</td>\n",
       "      <td>NaN</td>\n",
       "      <td>50.0</td>\n",
       "    </tr>\n",
       "    <tr>\n",
       "      <th>2</th>\n",
       "      <td>24352001</td>\n",
       "      <td>2017-08-21</td>\n",
       "      <td>50.0</td>\n",
       "      <td>20.0</td>\n",
       "      <td>US</td>\n",
       "      <td>en</td>\n",
       "      <td>f</td>\n",
       "      <td>NaN</td>\n",
       "      <td>57.2</td>\n",
       "    </tr>\n",
       "    <tr>\n",
       "      <th>3</th>\n",
       "      <td>23379001</td>\n",
       "      <td>2017-07-05</td>\n",
       "      <td>52.0</td>\n",
       "      <td>26.0</td>\n",
       "      <td>GB</td>\n",
       "      <td>en</td>\n",
       "      <td>f</td>\n",
       "      <td>Asia/Calcutta</td>\n",
       "      <td>33.1</td>\n",
       "    </tr>\n",
       "    <tr>\n",
       "      <th>4</th>\n",
       "      <td>24776001</td>\n",
       "      <td>2017-09-12</td>\n",
       "      <td>52.0</td>\n",
       "      <td>23.0</td>\n",
       "      <td>CA</td>\n",
       "      <td>en</td>\n",
       "      <td>f</td>\n",
       "      <td>America/Toronto</td>\n",
       "      <td>70.0</td>\n",
       "    </tr>\n",
       "  </tbody>\n",
       "</table>\n",
       "</div>"
      ],
      "text/plain": [
       "    user_id  start_date  height_cm   age country language gender  \\\n",
       "0  24822001  2017-09-14        NaN  18.0      BR       pt      f   \n",
       "1  23529201  2017-07-12       50.0  23.0      NL       nl      m   \n",
       "2  24352001  2017-08-21       50.0  20.0      US       en      f   \n",
       "3  23379001  2017-07-05       52.0  26.0      GB       en      f   \n",
       "4  24776001  2017-09-12       52.0  23.0      CA       en      f   \n",
       "\n",
       "          timezone  goal_weight_kg  \n",
       "0           -03:00           178.7  \n",
       "1              NaN            50.0  \n",
       "2              NaN            57.2  \n",
       "3    Asia/Calcutta            33.1  \n",
       "4  America/Toronto            70.0  "
      ]
     },
     "execution_count": 222,
     "metadata": {},
     "output_type": "execute_result"
    }
   ],
   "source": []
  },
  {
   "cell_type": "code",
   "execution_count": 203,
   "metadata": {
    "collapsed": false
   },
   "outputs": [
    {
     "name": "stdout",
     "output_type": "stream",
     "text": [
      "<class 'pandas.core.frame.DataFrame'>\n",
      "RangeIndex: 5810 entries, 0 to 5809\n",
      "Data columns (total 9 columns):\n",
      "user_id           5810 non-null int64\n",
      "start_date        5810 non-null object\n",
      "height_cm         5809 non-null float64\n",
      "age               5810 non-null float64\n",
      "country           5808 non-null object\n",
      "language          5810 non-null object\n",
      "gender            5810 non-null object\n",
      "timezone          5348 non-null object\n",
      "goal_weight_kg    5810 non-null float64\n",
      "dtypes: float64(3), int64(1), object(5)\n",
      "memory usage: 408.6+ KB\n"
     ]
    }
   ],
   "source": [
    "users_df.info()"
   ]
  },
  {
   "cell_type": "code",
   "execution_count": 200,
   "metadata": {
    "collapsed": false
   },
   "outputs": [
    {
     "name": "stdout",
     "output_type": "stream",
     "text": [
      "5810\n"
     ]
    }
   ],
   "source": [
    "print len(users_df['gender'])"
   ]
  },
  {
   "cell_type": "markdown",
   "metadata": {},
   "source": [
    "**--> The lenght is equal to the dataframe lenght. We could use this column to iterate with loops on non-string-columns**"
   ]
  },
  {
   "cell_type": "markdown",
   "metadata": {},
   "source": [
    "# First data cleaning\n",
    "\n",
    "1) About NaN values\n",
    "\n",
    "The first option is to drop each row which contains a NaN value."
   ]
  },
  {
   "cell_type": "code",
   "execution_count": 142,
   "metadata": {
    "collapsed": false
   },
   "outputs": [
    {
     "name": "stdout",
     "output_type": "stream",
     "text": [
      "464\n"
     ]
    }
   ],
   "source": [
    "#First option -> using dropna function\n",
    "print(len(users_df.index) - len(users_df.dropna().index))"
   ]
  },
  {
   "cell_type": "markdown",
   "metadata": {},
   "source": [
    "We get 464 rows left. \n",
    "It's raisonable but let's apply the second option where we can keep the entire datasets \n",
    "\n",
    "It's about replacing NaN values by a blank."
   ]
  },
  {
   "cell_type": "code",
   "execution_count": 212,
   "metadata": {
    "collapsed": false
   },
   "outputs": [],
   "source": [
    "#Second option \n",
    "\n",
    "#users_df = users_df.fillna('')\n",
    "#users_df = users_df.dropna()\n",
    "#users_df.head()"
   ]
  },
  {
   "cell_type": "code",
   "execution_count": 223,
   "metadata": {
    "collapsed": false
   },
   "outputs": [],
   "source": [
    "#Convert \"age\" column to int type\n",
    "users_df['age'] = users_df['age'].astype(int)\n",
    "\n",
    "#Convert \"start_date\" column to datetime type\n",
    "users_df['start_date'] = pd.to_datetime(users_df['start_date'])"
   ]
  },
  {
   "cell_type": "code",
   "execution_count": 89,
   "metadata": {
    "collapsed": false
   },
   "outputs": [
    {
     "name": "stdout",
     "output_type": "stream",
     "text": [
      "<type 'str'>\n",
      "<type 'str'>\n",
      "<type 'str'>\n"
     ]
    }
   ],
   "source": [
    "# Types of country, language and gender are aleady ok\n",
    "print(type(users_df['country'][1]))\n",
    "print(type(users_df['language'][1]))\n",
    "print(type(users_df['gender'][1]))"
   ]
  },
  {
   "cell_type": "code",
   "execution_count": 220,
   "metadata": {
    "collapsed": false
   },
   "outputs": [
    {
     "name": "stdout",
     "output_type": "stream",
     "text": [
      "2\n",
      "462\n",
      "0\n"
     ]
    }
   ],
   "source": [
    "#To decide and justify on which column we will start our next data processing\n",
    "print (len(users_df['country']) - users_df['country'].count())\n",
    "print (len(users_df['timezone']) - users_df['timezone'].count())\n",
    "print (len(users_df['start_date']) - users_df['start_date'].count())"
   ]
  },
  {
   "cell_type": "markdown",
   "metadata": {},
   "source": [
    "**We have to get the timezone by the country key code**"
   ]
  },
  {
   "cell_type": "markdown",
   "metadata": {},
   "source": [
    "# @TODO DATA VIZUALISATION HERE"
   ]
  },
  {
   "cell_type": "code",
   "execution_count": 224,
   "metadata": {
    "collapsed": false
   },
   "outputs": [
    {
     "name": "stderr",
     "output_type": "stream",
     "text": [
      "/Users/kevenlemoing/anaconda/lib/python2.7/site-packages/ipykernel/__main__.py:19: SettingWithCopyWarning: \n",
      "A value is trying to be set on a copy of a slice from a DataFrame\n",
      "\n",
      "See the caveats in the documentation: http://pandas.pydata.org/pandas-docs/stable/indexing.html#indexing-view-versus-copy\n",
      "/Users/kevenlemoing/anaconda/lib/python2.7/site-packages/ipykernel/__main__.py:25: SettingWithCopyWarning: \n",
      "A value is trying to be set on a copy of a slice from a DataFrame\n",
      "\n",
      "See the caveats in the documentation: http://pandas.pydata.org/pandas-docs/stable/indexing.html#indexing-view-versus-copy\n"
     ]
    },
    {
     "data": {
      "text/html": [
       "<div>\n",
       "<table border=\"1\" class=\"dataframe\">\n",
       "  <thead>\n",
       "    <tr style=\"text-align: right;\">\n",
       "      <th></th>\n",
       "      <th>user_id</th>\n",
       "      <th>start_date</th>\n",
       "      <th>height_cm</th>\n",
       "      <th>age</th>\n",
       "      <th>country</th>\n",
       "      <th>language</th>\n",
       "      <th>gender</th>\n",
       "      <th>timezone</th>\n",
       "      <th>goal_weight_kg</th>\n",
       "    </tr>\n",
       "  </thead>\n",
       "  <tbody>\n",
       "    <tr>\n",
       "      <th>0</th>\n",
       "      <td>24822001</td>\n",
       "      <td>2017-09-14</td>\n",
       "      <td>NaN</td>\n",
       "      <td>18</td>\n",
       "      <td>BR</td>\n",
       "      <td>pt</td>\n",
       "      <td>f</td>\n",
       "      <td>2017-09-14 00:00:00 FNT-0200</td>\n",
       "      <td>178.7</td>\n",
       "    </tr>\n",
       "    <tr>\n",
       "      <th>1</th>\n",
       "      <td>23529201</td>\n",
       "      <td>2017-07-12</td>\n",
       "      <td>50.0</td>\n",
       "      <td>23</td>\n",
       "      <td>NL</td>\n",
       "      <td>nl</td>\n",
       "      <td>m</td>\n",
       "      <td>2017-07-12 00:00:00 CEST+0200</td>\n",
       "      <td>50.0</td>\n",
       "    </tr>\n",
       "    <tr>\n",
       "      <th>2</th>\n",
       "      <td>24352001</td>\n",
       "      <td>2017-08-21</td>\n",
       "      <td>50.0</td>\n",
       "      <td>20</td>\n",
       "      <td>US</td>\n",
       "      <td>en</td>\n",
       "      <td>f</td>\n",
       "      <td>2017-08-21 00:00:00 EDT-0400</td>\n",
       "      <td>57.2</td>\n",
       "    </tr>\n",
       "    <tr>\n",
       "      <th>3</th>\n",
       "      <td>23379001</td>\n",
       "      <td>2017-07-05</td>\n",
       "      <td>52.0</td>\n",
       "      <td>26</td>\n",
       "      <td>GB</td>\n",
       "      <td>en</td>\n",
       "      <td>f</td>\n",
       "      <td>2017-07-05 00:00:00 IST+0530</td>\n",
       "      <td>33.1</td>\n",
       "    </tr>\n",
       "    <tr>\n",
       "      <th>4</th>\n",
       "      <td>24776001</td>\n",
       "      <td>2017-09-12</td>\n",
       "      <td>52.0</td>\n",
       "      <td>23</td>\n",
       "      <td>CA</td>\n",
       "      <td>en</td>\n",
       "      <td>f</td>\n",
       "      <td>2017-09-12 00:00:00 EDT-0400</td>\n",
       "      <td>70.0</td>\n",
       "    </tr>\n",
       "  </tbody>\n",
       "</table>\n",
       "</div>"
      ],
      "text/plain": [
       "    user_id start_date  height_cm  age country language gender  \\\n",
       "0  24822001 2017-09-14        NaN   18      BR       pt      f   \n",
       "1  23529201 2017-07-12       50.0   23      NL       nl      m   \n",
       "2  24352001 2017-08-21       50.0   20      US       en      f   \n",
       "3  23379001 2017-07-05       52.0   26      GB       en      f   \n",
       "4  24776001 2017-09-12       52.0   23      CA       en      f   \n",
       "\n",
       "                        timezone  goal_weight_kg  \n",
       "0   2017-09-14 00:00:00 FNT-0200           178.7  \n",
       "1  2017-07-12 00:00:00 CEST+0200            50.0  \n",
       "2   2017-08-21 00:00:00 EDT-0400            57.2  \n",
       "3   2017-07-05 00:00:00 IST+0530            33.1  \n",
       "4   2017-09-12 00:00:00 EDT-0400            70.0  "
      ]
     },
     "execution_count": 224,
     "metadata": {},
     "output_type": "execute_result"
    }
   ],
   "source": [
    "#Uniformizing the column \"timezone\"\n",
    "\n",
    "#We could apply a little cleaning on NaN values in order to use the len() function on this column (not mandatory)\n",
    "#users_df['timezone'] = users_df['timezone'].fillna('')\n",
    "\n",
    "#We use user_id to be able to apply the len function because there are no NaN value. \n",
    "#We can also use the fillna function (cf. above), but the goal is to manage only datetime data type in this column\n",
    "\n",
    "#We import all of timezones in this list\n",
    "timezone_repo = pytz.all_timezones\n",
    "\n",
    "for i in range (len(users_df['gender'])):\n",
    "    \n",
    "    if pd.notnull(users_df['country'][i]):\n",
    "        \n",
    "        if users_df['timezone'][i] not in timezone_repo:\n",
    "            country_list = pytz.country_timezones[users_df['country'][i]]\n",
    "            users_df['timezone'][i] = str(country_list[0])\n",
    "\n",
    "        timezone = pytz.timezone(users_df['timezone'][i])\n",
    "        fmt = '%Y-%m-%d %H:%M:%S %Z%z'\n",
    "        loc_dt = timezone.localize(users_df['start_date'][i])\n",
    "        timezone_dt = loc_dt.astimezone(timezone)\n",
    "        users_df['timezone'][i] = timezone_dt.strftime(fmt)\n",
    "            \n",
    "users_df.head()"
   ]
  },
  {
   "cell_type": "code",
   "execution_count": 228,
   "metadata": {
    "collapsed": false
   },
   "outputs": [
    {
     "name": "stderr",
     "output_type": "stream",
     "text": [
      "/Users/kevenlemoing/anaconda/lib/python2.7/site-packages/pandas/core/generic.py:1165: FutureWarning: The 'mysql' flavor with DBAPI connection is deprecated and will be removed in future versions. MySQL will be further supported with SQLAlchemy connectables.\n",
      "  chunksize=chunksize, dtype=dtype)\n"
     ]
    }
   ],
   "source": [
    "#Save to the MySQL DB, in the table users\n",
    "\n",
    "# Connect to the database\n",
    "connection = pymysql.connect(host='localhost',\n",
    "                             user='root',\n",
    "                             password='root',\n",
    "                             db='lifesum',\n",
    "                             charset='utf8mb4',\n",
    "                             cursorclass=pymysql.cursors.DictCursor)\n",
    "\n",
    "users_df.to_sql(con=connection, name='users', if_exists='replace', flavor='mysql')\n"
   ]
  },
  {
   "cell_type": "markdown",
   "metadata": {},
   "source": [
    "# First vizualisations"
   ]
  },
  {
   "cell_type": "code",
   "execution_count": 36,
   "metadata": {
    "collapsed": false
   },
   "outputs": [
    {
     "data": {
      "text/plain": [
       "<seaborn.axisgrid.FacetGrid at 0x123187f90>"
      ]
     },
     "execution_count": 36,
     "metadata": {},
     "output_type": "execute_result"
    },
    {
     "data": {
      "image/png": "[encoded data removed]",
      "text/plain": [
       "<matplotlib.figure.Figure at 0x1231923d0>"
      ]
     },
     "metadata": {},
     "output_type": "display_data"
    }
   ],
   "source": [
    "sns.factorplot('height_cm',data=users_df)"
   ]
  },
  {
   "cell_type": "code",
   "execution_count": 17,
   "metadata": {
    "collapsed": false
   },
   "outputs": [
    {
     "ename": "TypeError",
     "evalue": "argument 2 to map() must support iteration",
     "output_type": "error",
     "traceback": [
      "\u001b[0;31m---------------------------------------------------------------------------\u001b[0m",
      "\u001b[0;31mTypeError\u001b[0m                                 Traceback (most recent call last)",
      "\u001b[0;32m<ipython-input-17-9b89b1cea223>\u001b[0m in \u001b[0;36m<module>\u001b[0;34m()\u001b[0m\n\u001b[0;32m----> 1\u001b[0;31m \u001b[0msns\u001b[0m\u001b[0;34m.\u001b[0m\u001b[0mfactorplot\u001b[0m\u001b[0;34m(\u001b[0m\u001b[0;34m'goal_weight_kg'\u001b[0m\u001b[0;34m,\u001b[0m\u001b[0mdata\u001b[0m\u001b[0;34m=\u001b[0m\u001b[0musers_df\u001b[0m\u001b[0;34m,\u001b[0m\u001b[0mhue\u001b[0m\u001b[0;34m=\u001b[0m\u001b[0;34m'gender'\u001b[0m\u001b[0;34m)\u001b[0m\u001b[0;34m\u001b[0m\u001b[0m\n\u001b[0m",
      "\u001b[0;32m/Users/kevenlemoing/anaconda/lib/python2.7/site-packages/seaborn/categorical.pyc\u001b[0m in \u001b[0;36mfactorplot\u001b[0;34m(x, y, hue, data, row, col, col_wrap, estimator, ci, n_boot, units, order, hue_order, row_order, col_order, kind, size, aspect, orient, color, palette, legend, legend_out, sharex, sharey, margin_titles, facet_kws, **kwargs)\u001b[0m\n\u001b[1;32m   3538\u001b[0m \u001b[0;34m\u001b[0m\u001b[0m\n\u001b[1;32m   3539\u001b[0m     \u001b[0;32mif\u001b[0m \u001b[0mlegend\u001b[0m \u001b[0;32mand\u001b[0m \u001b[0;34m(\u001b[0m\u001b[0mhue\u001b[0m \u001b[0;32mis\u001b[0m \u001b[0;32mnot\u001b[0m \u001b[0mNone\u001b[0m\u001b[0;34m)\u001b[0m \u001b[0;32mand\u001b[0m \u001b[0;34m(\u001b[0m\u001b[0mhue\u001b[0m \u001b[0;32mnot\u001b[0m \u001b[0;32min\u001b[0m \u001b[0;34m[\u001b[0m\u001b[0mx\u001b[0m\u001b[0;34m,\u001b[0m \u001b[0mrow\u001b[0m\u001b[0;34m,\u001b[0m \u001b[0mcol\u001b[0m\u001b[0;34m]\u001b[0m\u001b[0;34m)\u001b[0m\u001b[0;34m:\u001b[0m\u001b[0;34m\u001b[0m\u001b[0m\n\u001b[0;32m-> 3540\u001b[0;31m         \u001b[0mhue_order\u001b[0m \u001b[0;34m=\u001b[0m \u001b[0mlist\u001b[0m\u001b[0;34m(\u001b[0m\u001b[0mmap\u001b[0m\u001b[0;34m(\u001b[0m\u001b[0mutils\u001b[0m\u001b[0;34m.\u001b[0m\u001b[0mto_utf8\u001b[0m\u001b[0;34m,\u001b[0m \u001b[0mhue_order\u001b[0m\u001b[0;34m)\u001b[0m\u001b[0;34m)\u001b[0m\u001b[0;34m\u001b[0m\u001b[0m\n\u001b[0m\u001b[1;32m   3541\u001b[0m         \u001b[0mg\u001b[0m\u001b[0;34m.\u001b[0m\u001b[0madd_legend\u001b[0m\u001b[0;34m(\u001b[0m\u001b[0mtitle\u001b[0m\u001b[0;34m=\u001b[0m\u001b[0mhue\u001b[0m\u001b[0;34m,\u001b[0m \u001b[0mlabel_order\u001b[0m\u001b[0;34m=\u001b[0m\u001b[0mhue_order\u001b[0m\u001b[0;34m)\u001b[0m\u001b[0;34m\u001b[0m\u001b[0m\n\u001b[1;32m   3542\u001b[0m \u001b[0;34m\u001b[0m\u001b[0m\n",
      "\u001b[0;31mTypeError\u001b[0m: argument 2 to map() must support iteration"
     ]
    },
    {
     "data": {
      "image/png": "[encoded data removed]",
      "text/plain": [
       "<matplotlib.figure.Figure at 0x120dc96d0>"
      ]
     },
     "metadata": {},
     "output_type": "display_data"
    }
   ],
   "source": [
    "sns.factorplot('goal_weight_kg',data=users_df,hue='gender')"
   ]
  },
  {
   "cell_type": "code",
   "execution_count": null,
   "metadata": {
    "collapsed": true
   },
   "outputs": [],
   "source": [
    "#par taille"
   ]
  },
  {
   "cell_type": "markdown",
   "metadata": {},
   "source": [
    "# Second data cleaning"
   ]
  },
  {
   "cell_type": "code",
   "execution_count": null,
   "metadata": {
    "collapsed": true
   },
   "outputs": [],
   "source": [
    "##Some goals are not relevant\n",
    "##Some height_cm are not relevant\n",
    "##--> definir le poids \"bon pour la santé\" (relation entre poids et taille) et le comparer avec les objectifs du user"
   ]
  }
 ],
 "metadata": {
  "anaconda-cloud": {},
  "kernelspec": {
   "display_name": "Python [conda root]",
   "language": "python",
   "name": "conda-root-py"
  },
  "language_info": {
   "codemirror_mode": {
    "name": "ipython",
    "version": 2
   },
   "file_extension": ".py",
   "mimetype": "text/x-python",
   "name": "python",
   "nbconvert_exporter": "python",
   "pygments_lexer": "ipython2",
   "version": "2.7.13"
  }
 },
 "nbformat": 4,
 "nbformat_minor": 1
}
