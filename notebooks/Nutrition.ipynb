{
 "cells": [
  {
   "cell_type": "code",
   "execution_count": 46,
   "metadata": {
    "collapsed": true
   },
   "outputs": [],
   "source": [
    "import pandas as pd\n",
    "from pandas import Series,DataFrame\n",
    "import numpy as np\n",
    "from datetime import datetime, timedelta\n",
    "import pytz\n",
    "from pytz import timezone\n",
    "from pandas.io import sql\n",
    "import pymysql.cursors\n",
    "\n",
    "import numpy\n",
    "from numpy import mean\n",
    "\n",
    "# For visualization\n",
    "import matplotlib.pyplot as plt\n",
    "import seaborn as sns\n",
    "sns.set_style('whitegrid')\n",
    "%matplotlib inline\n",
    "\n",
    "from __future__ import division"
   ]
  },
  {
   "cell_type": "markdown",
   "metadata": {},
   "source": [
    "###### Please find below questions related to \"nutrition\" part of the study\n",
    "\n",
    "- Macro nutrient balance (protein,carbs,fat) of people's main meals ? \n",
    "- What proportion of calories comes from each category ? \n",
    "- Does it vary by gender ? \n",
    "- By country ?"
   ]
  },
  {
   "cell_type": "markdown",
   "metadata": {
    "collapsed": true
   },
   "source": [
    "#### Source \n",
    "-> https://vitals.lifehacker.com/count-macronutrients-instead-of-calories-for-better-die-1706873465\n",
    "\n",
    "\n",
    "**from this source, we get following balance:**\n",
    "\n",
    "*Protein*\n",
    "Calories: 4 calories per gram\n",
    "    \n",
    "*Carbohydrates*\n",
    "Calories: 4 calories per gram\n",
    "\n",
    "*Fats*\n",
    "Calories: 9 calories per gram."
   ]
  },
  {
   "cell_type": "code",
   "execution_count": 64,
   "metadata": {
    "collapsed": false
   },
   "outputs": [],
   "source": [
    "#Importing all datasets (all of operations are detailled in notebooks from directory called \"exploring\")\n",
    "\n",
    "#users with complete timezone\n",
    "users_df = pd.read_csv('/Users/kevenlemoing/Sites/Lifesum_assignement/data/users_timezone.csv',error_bad_lines=False)\n",
    "\n",
    "#food\n",
    "food_df = pd.read_csv('/Users/kevenlemoing/Sites/Lifesum_assignement/data/food.csv',error_bad_lines=False)\n",
    "\n",
    "#exercise\n",
    "ex_df = pd.read_csv('/Users/kevenlemoing/Sites/lifesum_assignement/data/exercise.csv',error_bad_lines=False)\n",
    "\n",
    "#weight\n",
    "weight_df = pd.read_csv('/Users/kevenlemoing/Sites/lifesum_assignement/data/weight.csv',error_bad_lines=False)\n",
    "\n",
    "\n",
    "\n",
    "################# SQL VIEWS #####################\n",
    "food2_df = pd.read_csv('/Users/kevenlemoing/Sites/Lifesum_assignement/data/from_DB/_view_food_with_gender_and_country.csv',error_bad_lines=False)"
   ]
  },
  {
   "cell_type": "code",
   "execution_count": 65,
   "metadata": {
    "collapsed": false
   },
   "outputs": [
    {
     "data": {
      "text/html": [
       "<div>\n",
       "<table border=\"1\" class=\"dataframe\">\n",
       "  <thead>\n",
       "    <tr style=\"text-align: right;\">\n",
       "      <th></th>\n",
       "      <th>index</th>\n",
       "      <th>food_item_id</th>\n",
       "      <th>user_id</th>\n",
       "      <th>date</th>\n",
       "      <th>meal</th>\n",
       "      <th>calories</th>\n",
       "      <th>protein</th>\n",
       "      <th>fat</th>\n",
       "      <th>carbohydrates</th>\n",
       "      <th>gender</th>\n",
       "      <th>country</th>\n",
       "    </tr>\n",
       "  </thead>\n",
       "  <tbody>\n",
       "    <tr>\n",
       "      <th>0</th>\n",
       "      <td>30</td>\n",
       "      <td>2136718473</td>\n",
       "      <td>23684401</td>\n",
       "      <td>2017-07-23</td>\n",
       "      <td>lunch</td>\n",
       "      <td>39</td>\n",
       "      <td>0.8</td>\n",
       "      <td>1.8</td>\n",
       "      <td>4.6</td>\n",
       "      <td>f</td>\n",
       "      <td>DE</td>\n",
       "    </tr>\n",
       "    <tr>\n",
       "      <th>1</th>\n",
       "      <td>2664</td>\n",
       "      <td>2135142021</td>\n",
       "      <td>23684401</td>\n",
       "      <td>2017-07-22</td>\n",
       "      <td>lunch</td>\n",
       "      <td>669</td>\n",
       "      <td>27.9</td>\n",
       "      <td>58.1</td>\n",
       "      <td>8.1</td>\n",
       "      <td>f</td>\n",
       "      <td>DE</td>\n",
       "    </tr>\n",
       "    <tr>\n",
       "      <th>2</th>\n",
       "      <td>2718</td>\n",
       "      <td>2136718471</td>\n",
       "      <td>23684401</td>\n",
       "      <td>2017-07-23</td>\n",
       "      <td>lunch</td>\n",
       "      <td>536</td>\n",
       "      <td>96.5</td>\n",
       "      <td>16.3</td>\n",
       "      <td>0.1</td>\n",
       "      <td>f</td>\n",
       "      <td>DE</td>\n",
       "    </tr>\n",
       "    <tr>\n",
       "      <th>3</th>\n",
       "      <td>2793</td>\n",
       "      <td>2198684590</td>\n",
       "      <td>23684401</td>\n",
       "      <td>2017-08-24</td>\n",
       "      <td>lunch</td>\n",
       "      <td>164</td>\n",
       "      <td>3.8</td>\n",
       "      <td>16.3</td>\n",
       "      <td>3.4</td>\n",
       "      <td>f</td>\n",
       "      <td>DE</td>\n",
       "    </tr>\n",
       "    <tr>\n",
       "      <th>4</th>\n",
       "      <td>2819</td>\n",
       "      <td>2186924840</td>\n",
       "      <td>23684401</td>\n",
       "      <td>2017-08-18</td>\n",
       "      <td>breakfast</td>\n",
       "      <td>164</td>\n",
       "      <td>3.8</td>\n",
       "      <td>16.3</td>\n",
       "      <td>3.4</td>\n",
       "      <td>f</td>\n",
       "      <td>DE</td>\n",
       "    </tr>\n",
       "  </tbody>\n",
       "</table>\n",
       "</div>"
      ],
      "text/plain": [
       "   index  food_item_id   user_id        date       meal  calories  protein  \\\n",
       "0     30    2136718473  23684401  2017-07-23      lunch        39      0.8   \n",
       "1   2664    2135142021  23684401  2017-07-22      lunch       669     27.9   \n",
       "2   2718    2136718471  23684401  2017-07-23      lunch       536     96.5   \n",
       "3   2793    2198684590  23684401  2017-08-24      lunch       164      3.8   \n",
       "4   2819    2186924840  23684401  2017-08-18  breakfast       164      3.8   \n",
       "\n",
       "    fat  carbohydrates gender country  \n",
       "0   1.8            4.6      f      DE  \n",
       "1  58.1            8.1      f      DE  \n",
       "2  16.3            0.1      f      DE  \n",
       "3  16.3            3.4      f      DE  \n",
       "4  16.3            3.4      f      DE  "
      ]
     },
     "execution_count": 65,
     "metadata": {},
     "output_type": "execute_result"
    }
   ],
   "source": [
    "food2_df.head()"
   ]
  },
  {
   "cell_type": "code",
   "execution_count": 66,
   "metadata": {
    "collapsed": false
   },
   "outputs": [
    {
     "data": {
      "text/plain": [
       "<matplotlib.axes._subplots.AxesSubplot at 0x1b03605450>"
      ]
     },
     "execution_count": 66,
     "metadata": {},
     "output_type": "execute_result"
    },
    {
     "data": {
      "image/png": "[encoded data removed]",
      "text/plain": [
       "<matplotlib.figure.Figure at 0x1b1ea4e5d0>"
      ]
     },
     "metadata": {},
     "output_type": "display_data"
    }
   ],
   "source": [
    "# Mean calories per meal for female\n",
    "\n",
    "foodfemale_df = food_df.copy()\n",
    "foodfemale_df = food_df.loc[(food2_df['gender'] == 'f')]\n",
    "\n",
    "sns.barplot(x=\"meal\", y=\"calories\", data=foodfemale_df)"
   ]
  },
  {
   "cell_type": "code",
   "execution_count": 50,
   "metadata": {
    "collapsed": false
   },
   "outputs": [
    {
     "data": {
      "text/plain": [
       "<matplotlib.axes._subplots.AxesSubplot at 0x1a339eba50>"
      ]
     },
     "execution_count": 50,
     "metadata": {},
     "output_type": "execute_result"
    },
    {
     "data": {
      "image/png": "[encoded data removed]",
      "text/plain": [
       "<matplotlib.figure.Figure at 0x1a22e5c490>"
      ]
     },
     "metadata": {},
     "output_type": "display_data"
    }
   ],
   "source": [
    "# Mean calories per meal for male\n",
    "\n",
    "foodmale_df = food_df.copy()\n",
    "foodmale_df = food_df.loc[(food2_df['gender'] == 'm')]\n",
    "\n",
    "sns.barplot(x=\"meal\", y=\"calories\", data=foodmale_df)"
   ]
  },
  {
   "cell_type": "markdown",
   "metadata": {},
   "source": [
    "Comment: \n",
    "\n",
    "-> We have a little bit more calories consumed by male"
   ]
  },
  {
   "cell_type": "code",
   "execution_count": 68,
   "metadata": {
    "collapsed": false
   },
   "outputs": [
    {
     "data": {
      "text/html": [
       "<div>\n",
       "<table border=\"1\" class=\"dataframe\">\n",
       "  <thead>\n",
       "    <tr style=\"text-align: right;\">\n",
       "      <th></th>\n",
       "      <th>index</th>\n",
       "      <th>food_item_id</th>\n",
       "      <th>user_id</th>\n",
       "      <th>date</th>\n",
       "      <th>meal</th>\n",
       "      <th>calories</th>\n",
       "      <th>protein</th>\n",
       "      <th>fat</th>\n",
       "      <th>carbohydrates</th>\n",
       "      <th>gender</th>\n",
       "      <th>country</th>\n",
       "    </tr>\n",
       "  </thead>\n",
       "  <tbody>\n",
       "    <tr>\n",
       "      <th>0</th>\n",
       "      <td>30</td>\n",
       "      <td>2136718473</td>\n",
       "      <td>23684401</td>\n",
       "      <td>2017-07-23</td>\n",
       "      <td>lunch</td>\n",
       "      <td>39</td>\n",
       "      <td>0.8</td>\n",
       "      <td>1.8</td>\n",
       "      <td>4.6</td>\n",
       "      <td>f</td>\n",
       "      <td>DE</td>\n",
       "    </tr>\n",
       "    <tr>\n",
       "      <th>1</th>\n",
       "      <td>2664</td>\n",
       "      <td>2135142021</td>\n",
       "      <td>23684401</td>\n",
       "      <td>2017-07-22</td>\n",
       "      <td>lunch</td>\n",
       "      <td>669</td>\n",
       "      <td>27.9</td>\n",
       "      <td>58.1</td>\n",
       "      <td>8.1</td>\n",
       "      <td>f</td>\n",
       "      <td>DE</td>\n",
       "    </tr>\n",
       "    <tr>\n",
       "      <th>2</th>\n",
       "      <td>2718</td>\n",
       "      <td>2136718471</td>\n",
       "      <td>23684401</td>\n",
       "      <td>2017-07-23</td>\n",
       "      <td>lunch</td>\n",
       "      <td>536</td>\n",
       "      <td>96.5</td>\n",
       "      <td>16.3</td>\n",
       "      <td>0.1</td>\n",
       "      <td>f</td>\n",
       "      <td>DE</td>\n",
       "    </tr>\n",
       "    <tr>\n",
       "      <th>3</th>\n",
       "      <td>2793</td>\n",
       "      <td>2198684590</td>\n",
       "      <td>23684401</td>\n",
       "      <td>2017-08-24</td>\n",
       "      <td>lunch</td>\n",
       "      <td>164</td>\n",
       "      <td>3.8</td>\n",
       "      <td>16.3</td>\n",
       "      <td>3.4</td>\n",
       "      <td>f</td>\n",
       "      <td>DE</td>\n",
       "    </tr>\n",
       "    <tr>\n",
       "      <th>4</th>\n",
       "      <td>2819</td>\n",
       "      <td>2186924840</td>\n",
       "      <td>23684401</td>\n",
       "      <td>2017-08-18</td>\n",
       "      <td>breakfast</td>\n",
       "      <td>164</td>\n",
       "      <td>3.8</td>\n",
       "      <td>16.3</td>\n",
       "      <td>3.4</td>\n",
       "      <td>f</td>\n",
       "      <td>DE</td>\n",
       "    </tr>\n",
       "  </tbody>\n",
       "</table>\n",
       "</div>"
      ],
      "text/plain": [
       "   index  food_item_id   user_id        date       meal  calories  protein  \\\n",
       "0     30    2136718473  23684401  2017-07-23      lunch        39      0.8   \n",
       "1   2664    2135142021  23684401  2017-07-22      lunch       669     27.9   \n",
       "2   2718    2136718471  23684401  2017-07-23      lunch       536     96.5   \n",
       "3   2793    2198684590  23684401  2017-08-24      lunch       164      3.8   \n",
       "4   2819    2186924840  23684401  2017-08-18  breakfast       164      3.8   \n",
       "\n",
       "    fat  carbohydrates gender country  \n",
       "0   1.8            4.6      f      DE  \n",
       "1  58.1            8.1      f      DE  \n",
       "2  16.3            0.1      f      DE  \n",
       "3  16.3            3.4      f      DE  \n",
       "4  16.3            3.4      f      DE  "
      ]
     },
     "execution_count": 68,
     "metadata": {},
     "output_type": "execute_result"
    }
   ],
   "source": [
    "# Getting the main countries\n",
    "country_df = food2_df.loc[(food2_df['country'] == 'US') | (food2_df['country'] == 'DE') | (food2_df['country'] == 'RU') | (food2_df['country'] == 'GB') | (food2_df['country'] == 'SE')]\n",
    "country_df = country_df.reset_index(drop=True)\n",
    "country_df.head()"
   ]
  },
  {
   "cell_type": "code",
   "execution_count": 70,
   "metadata": {
    "collapsed": false
   },
   "outputs": [
    {
     "data": {
      "text/plain": [
       "<seaborn.axisgrid.FacetGrid at 0x1b36ff0f10>"
      ]
     },
     "execution_count": 70,
     "metadata": {},
     "output_type": "execute_result"
    },
    {
     "data": {
      "image/png": "[encoded data removed]",
      "text/plain": [
       "<matplotlib.figure.Figure at 0x1b36ff0ad0>"
      ]
     },
     "metadata": {},
     "output_type": "display_data"
    }
   ],
   "source": [
    "# Calories consumed per country\n",
    "sns.factorplot(x=\"country\", y=\"calories\", hue=\"meal\", data=country_df)"
   ]
  },
  {
   "cell_type": "code",
   "execution_count": null,
   "metadata": {
    "collapsed": true
   },
   "outputs": [],
   "source": []
  }
 ],
 "metadata": {
  "anaconda-cloud": {},
  "kernelspec": {
   "display_name": "Python [conda root]",
   "language": "python",
   "name": "conda-root-py"
  },
  "language_info": {
   "codemirror_mode": {
    "name": "ipython",
    "version": 2
   },
   "file_extension": ".py",
   "mimetype": "text/x-python",
   "name": "python",
   "nbconvert_exporter": "python",
   "pygments_lexer": "ipython2",
   "version": "2.7.13"
  }
 },
 "nbformat": 4,
 "nbformat_minor": 1
}
