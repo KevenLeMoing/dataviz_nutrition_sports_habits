{
 "cells": [
  {
   "cell_type": "code",
   "execution_count": 27,
   "metadata": {
    "collapsed": false
   },
   "outputs": [],
   "source": [
    "# For data\n",
    "import pandas as pd\n",
    "from pandas import Series,DataFrame\n",
    "import numpy as np\n",
    "\n",
    "# For visualization\n",
    "import matplotlib.pyplot as plt\n",
    "#import seaborn as sns\n",
    "#sns.set_style('whitegrid')\n",
    "%matplotlib inline\n",
    "\n",
    "from __future__ import division"
   ]
  },
  {
   "cell_type": "code",
   "execution_count": 28,
   "metadata": {
    "collapsed": false
   },
   "outputs": [],
   "source": [
    "users_df = pd.read_csv('/Users/kevenlemoing/Sites/Lifesum_assignement/data/users.csv',error_bad_lines=False)"
   ]
  },
  {
   "cell_type": "code",
   "execution_count": 29,
   "metadata": {
    "collapsed": false
   },
   "outputs": [
    {
     "data": {
      "text/html": [
       "<div>\n",
       "<table border=\"1\" class=\"dataframe\">\n",
       "  <thead>\n",
       "    <tr style=\"text-align: right;\">\n",
       "      <th></th>\n",
       "      <th>user_id</th>\n",
       "      <th>start_date</th>\n",
       "      <th>height_cm</th>\n",
       "      <th>age</th>\n",
       "      <th>country</th>\n",
       "      <th>language</th>\n",
       "      <th>gender</th>\n",
       "      <th>timezone</th>\n",
       "      <th>goal_weight_kg</th>\n",
       "    </tr>\n",
       "  </thead>\n",
       "  <tbody>\n",
       "    <tr>\n",
       "      <th>0</th>\n",
       "      <td>24822001</td>\n",
       "      <td>2017-09-14</td>\n",
       "      <td>NaN</td>\n",
       "      <td>18.0</td>\n",
       "      <td>BR</td>\n",
       "      <td>pt</td>\n",
       "      <td>f</td>\n",
       "      <td>-03:00</td>\n",
       "      <td>178.7</td>\n",
       "    </tr>\n",
       "    <tr>\n",
       "      <th>1</th>\n",
       "      <td>23529201</td>\n",
       "      <td>2017-07-12</td>\n",
       "      <td>50.0</td>\n",
       "      <td>23.0</td>\n",
       "      <td>NL</td>\n",
       "      <td>nl</td>\n",
       "      <td>m</td>\n",
       "      <td>NaN</td>\n",
       "      <td>50.0</td>\n",
       "    </tr>\n",
       "    <tr>\n",
       "      <th>2</th>\n",
       "      <td>24352001</td>\n",
       "      <td>2017-08-21</td>\n",
       "      <td>50.0</td>\n",
       "      <td>20.0</td>\n",
       "      <td>US</td>\n",
       "      <td>en</td>\n",
       "      <td>f</td>\n",
       "      <td>NaN</td>\n",
       "      <td>57.2</td>\n",
       "    </tr>\n",
       "    <tr>\n",
       "      <th>3</th>\n",
       "      <td>23379001</td>\n",
       "      <td>2017-07-05</td>\n",
       "      <td>52.0</td>\n",
       "      <td>26.0</td>\n",
       "      <td>GB</td>\n",
       "      <td>en</td>\n",
       "      <td>f</td>\n",
       "      <td>Asia/Calcutta</td>\n",
       "      <td>33.1</td>\n",
       "    </tr>\n",
       "    <tr>\n",
       "      <th>4</th>\n",
       "      <td>24776001</td>\n",
       "      <td>2017-09-12</td>\n",
       "      <td>52.0</td>\n",
       "      <td>23.0</td>\n",
       "      <td>CA</td>\n",
       "      <td>en</td>\n",
       "      <td>f</td>\n",
       "      <td>America/Toronto</td>\n",
       "      <td>70.0</td>\n",
       "    </tr>\n",
       "  </tbody>\n",
       "</table>\n",
       "</div>"
      ],
      "text/plain": [
       "    user_id  start_date  height_cm   age country language gender  \\\n",
       "0  24822001  2017-09-14        NaN  18.0      BR       pt      f   \n",
       "1  23529201  2017-07-12       50.0  23.0      NL       nl      m   \n",
       "2  24352001  2017-08-21       50.0  20.0      US       en      f   \n",
       "3  23379001  2017-07-05       52.0  26.0      GB       en      f   \n",
       "4  24776001  2017-09-12       52.0  23.0      CA       en      f   \n",
       "\n",
       "          timezone  goal_weight_kg  \n",
       "0           -03:00           178.7  \n",
       "1              NaN            50.0  \n",
       "2              NaN            57.2  \n",
       "3    Asia/Calcutta            33.1  \n",
       "4  America/Toronto            70.0  "
      ]
     },
     "execution_count": 29,
     "metadata": {},
     "output_type": "execute_result"
    }
   ],
   "source": [
    "users_df.head()"
   ]
  },
  {
   "cell_type": "code",
   "execution_count": 30,
   "metadata": {
    "collapsed": false
   },
   "outputs": [
    {
     "name": "stdout",
     "output_type": "stream",
     "text": [
      "<class 'pandas.core.frame.DataFrame'>\n",
      "RangeIndex: 5810 entries, 0 to 5809\n",
      "Data columns (total 9 columns):\n",
      "user_id           5810 non-null int64\n",
      "start_date        5810 non-null object\n",
      "height_cm         5809 non-null float64\n",
      "age               5810 non-null float64\n",
      "country           5808 non-null object\n",
      "language          5810 non-null object\n",
      "gender            5810 non-null object\n",
      "timezone          5348 non-null object\n",
      "goal_weight_kg    5810 non-null float64\n",
      "dtypes: float64(3), int64(1), object(5)\n",
      "memory usage: 408.6+ KB\n"
     ]
    }
   ],
   "source": [
    "users_df.info()"
   ]
  },
  {
   "cell_type": "markdown",
   "metadata": {},
   "source": [
    "# First data cleaning\n",
    "\n",
    "1) About NaN values\n",
    "\n",
    "The first option is to drop each row which contains a NaN value: We get 464 rows left. \n",
    "It's raisonable but let's apply the second option where we can keep the entire dataset\n",
    "\n",
    "-> It's about replacing NaN values by a blank."
   ]
  },
  {
   "cell_type": "code",
   "execution_count": 31,
   "metadata": {
    "collapsed": false
   },
   "outputs": [
    {
     "data": {
      "text/html": [
       "<div>\n",
       "<table border=\"1\" class=\"dataframe\">\n",
       "  <thead>\n",
       "    <tr style=\"text-align: right;\">\n",
       "      <th></th>\n",
       "      <th>user_id</th>\n",
       "      <th>start_date</th>\n",
       "      <th>height_cm</th>\n",
       "      <th>age</th>\n",
       "      <th>country</th>\n",
       "      <th>language</th>\n",
       "      <th>gender</th>\n",
       "      <th>timezone</th>\n",
       "      <th>goal_weight_kg</th>\n",
       "    </tr>\n",
       "  </thead>\n",
       "  <tbody>\n",
       "    <tr>\n",
       "      <th>0</th>\n",
       "      <td>24822001</td>\n",
       "      <td>2017-09-14</td>\n",
       "      <td></td>\n",
       "      <td>18.0</td>\n",
       "      <td>BR</td>\n",
       "      <td>pt</td>\n",
       "      <td>f</td>\n",
       "      <td>-03:00</td>\n",
       "      <td>178.7</td>\n",
       "    </tr>\n",
       "    <tr>\n",
       "      <th>1</th>\n",
       "      <td>23529201</td>\n",
       "      <td>2017-07-12</td>\n",
       "      <td>50</td>\n",
       "      <td>23.0</td>\n",
       "      <td>NL</td>\n",
       "      <td>nl</td>\n",
       "      <td>m</td>\n",
       "      <td></td>\n",
       "      <td>50.0</td>\n",
       "    </tr>\n",
       "    <tr>\n",
       "      <th>2</th>\n",
       "      <td>24352001</td>\n",
       "      <td>2017-08-21</td>\n",
       "      <td>50</td>\n",
       "      <td>20.0</td>\n",
       "      <td>US</td>\n",
       "      <td>en</td>\n",
       "      <td>f</td>\n",
       "      <td></td>\n",
       "      <td>57.2</td>\n",
       "    </tr>\n",
       "    <tr>\n",
       "      <th>3</th>\n",
       "      <td>23379001</td>\n",
       "      <td>2017-07-05</td>\n",
       "      <td>52</td>\n",
       "      <td>26.0</td>\n",
       "      <td>GB</td>\n",
       "      <td>en</td>\n",
       "      <td>f</td>\n",
       "      <td>Asia/Calcutta</td>\n",
       "      <td>33.1</td>\n",
       "    </tr>\n",
       "    <tr>\n",
       "      <th>4</th>\n",
       "      <td>24776001</td>\n",
       "      <td>2017-09-12</td>\n",
       "      <td>52</td>\n",
       "      <td>23.0</td>\n",
       "      <td>CA</td>\n",
       "      <td>en</td>\n",
       "      <td>f</td>\n",
       "      <td>America/Toronto</td>\n",
       "      <td>70.0</td>\n",
       "    </tr>\n",
       "  </tbody>\n",
       "</table>\n",
       "</div>"
      ],
      "text/plain": [
       "    user_id  start_date height_cm   age country language gender  \\\n",
       "0  24822001  2017-09-14            18.0      BR       pt      f   \n",
       "1  23529201  2017-07-12        50  23.0      NL       nl      m   \n",
       "2  24352001  2017-08-21        50  20.0      US       en      f   \n",
       "3  23379001  2017-07-05        52  26.0      GB       en      f   \n",
       "4  24776001  2017-09-12        52  23.0      CA       en      f   \n",
       "\n",
       "          timezone  goal_weight_kg  \n",
       "0           -03:00           178.7  \n",
       "1                             50.0  \n",
       "2                             57.2  \n",
       "3    Asia/Calcutta            33.1  \n",
       "4  America/Toronto            70.0  "
      ]
     },
     "execution_count": 31,
     "metadata": {},
     "output_type": "execute_result"
    }
   ],
   "source": [
    "#First option -> using dropna function\n",
    "#@TODO count dynamically the difference of number of rows. \n",
    "#users_df.dropna()\n",
    "\n",
    "\n",
    "#Second option \n",
    "users_df = users_df.fillna('')\n",
    "users_df.head()"
   ]
  },
  {
   "cell_type": "code",
   "execution_count": 25,
   "metadata": {
    "collapsed": true
   },
   "outputs": [],
   "source": [
    "#Change the type of \"age field\"\n"
   ]
  },
  {
   "cell_type": "code",
   "execution_count": 24,
   "metadata": {
    "collapsed": true
   },
   "outputs": [],
   "source": [
    "#Uniformize data about the field \"timezone\"\n"
   ]
  },
  {
   "cell_type": "markdown",
   "metadata": {},
   "source": [
    "# First vizualisations"
   ]
  },
  {
   "cell_type": "code",
   "execution_count": 9,
   "metadata": {
    "collapsed": true
   },
   "outputs": [],
   "source": [
    "#sns.factorplot('gender',data=users_df)"
   ]
  },
  {
   "cell_type": "code",
   "execution_count": null,
   "metadata": {
    "collapsed": true
   },
   "outputs": [],
   "source": [
    "#par taille"
   ]
  },
  {
   "cell_type": "markdown",
   "metadata": {},
   "source": [
    "# Second data cleaning"
   ]
  },
  {
   "cell_type": "code",
   "execution_count": null,
   "metadata": {
    "collapsed": true
   },
   "outputs": [],
   "source": [
    "##Some goals are not relevant\n",
    "##Some height_cm are not relevant\n",
    "##--> definir le poids \"bon pour la santé\" (relation entre poids et taille) et le comparer avec les objectifs du user"
   ]
  }
 ],
 "metadata": {
  "anaconda-cloud": {},
  "kernelspec": {
   "display_name": "Python [conda env:anaconda]",
   "language": "python",
   "name": "conda-env-anaconda-py"
  },
  "language_info": {
   "codemirror_mode": {
    "name": "ipython",
    "version": 2
   },
   "file_extension": ".py",
   "mimetype": "text/x-python",
   "name": "python",
   "nbconvert_exporter": "python",
   "pygments_lexer": "ipython2",
   "version": "2.7.13"
  }
 },
 "nbformat": 4,
 "nbformat_minor": 1
}
