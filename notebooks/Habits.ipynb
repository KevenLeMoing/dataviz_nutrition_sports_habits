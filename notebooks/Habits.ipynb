{
 "cells": [
  {
   "cell_type": "code",
   "execution_count": 21,
   "metadata": {
    "collapsed": true
   },
   "outputs": [],
   "source": [
    "import pandas as pd\n",
    "import numpy as np\n",
    "from numpy import mean"
   ]
  },
  {
   "cell_type": "markdown",
   "metadata": {},
   "source": [
    "###### Please find below questions related to \"habits\" part of the study\n",
    "\n",
    "- Do people track three meals per day with Lifesum ?\n",
    "- How likely are you to track tomorrow if you tracked today ? \n"
   ]
  },
  {
   "cell_type": "code",
   "execution_count": 117,
   "metadata": {
    "collapsed": false
   },
   "outputs": [],
   "source": [
    "#Importing all datasets (all of operations are detailled in notebooks from directory called \"exploring\")\n",
    "\n",
    "#users with complete timezone\n",
    "users_df = pd.read_csv('/Users/kevenlemoing/Sites/Lifesum_assignement/data/users_timezone.csv',error_bad_lines=False)\n",
    "\n",
    "#food\n",
    "food_df = pd.read_csv('/Users/kevenlemoing/Sites/Lifesum_assignement/data/food.csv',error_bad_lines=False)\n",
    "\n",
    "#exercise\n",
    "ex_df = pd.read_csv('/Users/kevenlemoing/Sites/lifesum_assignement/data/exercise.csv',error_bad_lines=False)\n",
    "\n",
    "#weight\n",
    "weight_df = pd.read_csv('/Users/kevenlemoing/Sites/lifesum_assignement/data/weight.csv',error_bad_lines=False)"
   ]
  },
  {
   "cell_type": "code",
   "execution_count": 47,
   "metadata": {
    "collapsed": false
   },
   "outputs": [
    {
     "data": {
      "text/html": [
       "<div>\n",
       "<table border=\"1\" class=\"dataframe\">\n",
       "  <thead>\n",
       "    <tr style=\"text-align: right;\">\n",
       "      <th></th>\n",
       "      <th>food_item_id</th>\n",
       "      <th>user_id</th>\n",
       "      <th>date</th>\n",
       "      <th>meal</th>\n",
       "      <th>title</th>\n",
       "      <th>brand</th>\n",
       "      <th>calories</th>\n",
       "      <th>protein</th>\n",
       "      <th>fat</th>\n",
       "      <th>carbohydrates</th>\n",
       "    </tr>\n",
       "  </thead>\n",
       "  <tbody>\n",
       "    <tr>\n",
       "      <th>0</th>\n",
       "      <td>2365765334</td>\n",
       "      <td>24943001</td>\n",
       "      <td>2017-11-26</td>\n",
       "      <td>breakfast</td>\n",
       "      <td>салат капуста огурец</td>\n",
       "      <td>NaN</td>\n",
       "      <td>30.0</td>\n",
       "      <td>0.8</td>\n",
       "      <td>1.8</td>\n",
       "      <td>3.3</td>\n",
       "    </tr>\n",
       "    <tr>\n",
       "      <th>1</th>\n",
       "      <td>2452562629</td>\n",
       "      <td>24633201</td>\n",
       "      <td>2018-01-15</td>\n",
       "      <td>lunch</td>\n",
       "      <td>салат капуста огурец</td>\n",
       "      <td>NaN</td>\n",
       "      <td>30.0</td>\n",
       "      <td>0.8</td>\n",
       "      <td>1.8</td>\n",
       "      <td>3.3</td>\n",
       "    </tr>\n",
       "    <tr>\n",
       "      <th>2</th>\n",
       "      <td>2338843253</td>\n",
       "      <td>24633201</td>\n",
       "      <td>2017-11-10</td>\n",
       "      <td>lunch</td>\n",
       "      <td>салат капуста огурец</td>\n",
       "      <td>NaN</td>\n",
       "      <td>30.0</td>\n",
       "      <td>0.8</td>\n",
       "      <td>1.8</td>\n",
       "      <td>3.3</td>\n",
       "    </tr>\n",
       "    <tr>\n",
       "      <th>3</th>\n",
       "      <td>2455280425</td>\n",
       "      <td>24633201</td>\n",
       "      <td>2018-01-16</td>\n",
       "      <td>lunch</td>\n",
       "      <td>салат капуста огурец</td>\n",
       "      <td>NaN</td>\n",
       "      <td>30.0</td>\n",
       "      <td>0.8</td>\n",
       "      <td>1.8</td>\n",
       "      <td>3.3</td>\n",
       "    </tr>\n",
       "    <tr>\n",
       "      <th>4</th>\n",
       "      <td>2394845446</td>\n",
       "      <td>24633201</td>\n",
       "      <td>2017-12-14</td>\n",
       "      <td>lunch</td>\n",
       "      <td>салат капуста огурец</td>\n",
       "      <td>NaN</td>\n",
       "      <td>30.0</td>\n",
       "      <td>0.8</td>\n",
       "      <td>1.8</td>\n",
       "      <td>3.3</td>\n",
       "    </tr>\n",
       "  </tbody>\n",
       "</table>\n",
       "</div>"
      ],
      "text/plain": [
       "   food_item_id   user_id        date       meal                 title brand  \\\n",
       "0    2365765334  24943001  2017-11-26  breakfast  салат капуста огурец   NaN   \n",
       "1    2452562629  24633201  2018-01-15      lunch  салат капуста огурец   NaN   \n",
       "2    2338843253  24633201  2017-11-10      lunch  салат капуста огурец   NaN   \n",
       "3    2455280425  24633201  2018-01-16      lunch  салат капуста огурец   NaN   \n",
       "4    2394845446  24633201  2017-12-14      lunch  салат капуста огурец   NaN   \n",
       "\n",
       "   calories  protein  fat  carbohydrates  \n",
       "0      30.0      0.8  1.8            3.3  \n",
       "1      30.0      0.8  1.8            3.3  \n",
       "2      30.0      0.8  1.8            3.3  \n",
       "3      30.0      0.8  1.8            3.3  \n",
       "4      30.0      0.8  1.8            3.3  "
      ]
     },
     "execution_count": 47,
     "metadata": {},
     "output_type": "execute_result"
    }
   ],
   "source": [
    "food_df.head()"
   ]
  },
  {
   "cell_type": "code",
   "execution_count": 118,
   "metadata": {
    "collapsed": false
   },
   "outputs": [
    {
     "data": {
      "text/plain": [
       "user_id\n",
       "23296601    1604\n",
       "23297601       6\n",
       "23297801      31\n",
       "23299201      37\n",
       "23299401       3\n",
       "Name: date, dtype: int64"
      ]
     },
     "execution_count": 118,
     "metadata": {},
     "output_type": "execute_result"
    }
   ],
   "source": [
    "user_id_tracking = food_df.groupby('user_id').date.count()\n",
    "user_id_tracking.head()"
   ]
  },
  {
   "cell_type": "code",
   "execution_count": 119,
   "metadata": {
    "collapsed": false
   },
   "outputs": [
    {
     "name": "stdout",
     "output_type": "stream",
     "text": [
      "<class 'pandas.core.series.Series'>\n"
     ]
    }
   ],
   "source": [
    "print type(user_id_tracking)"
   ]
  },
  {
   "cell_type": "code",
   "execution_count": 120,
   "metadata": {
    "collapsed": false
   },
   "outputs": [
    {
     "name": "stderr",
     "output_type": "stream",
     "text": [
      "/Users/kevenlemoing/anaconda/lib/python2.7/site-packages/ipykernel/__main__.py:1: FutureWarning: sort(columns=....) is deprecated, use sort_values(by=.....)\n",
      "  if __name__ == '__main__':\n"
     ]
    },
    {
     "data": {
      "text/html": [
       "<div>\n",
       "<table border=\"1\" class=\"dataframe\">\n",
       "  <thead>\n",
       "    <tr style=\"text-align: right;\">\n",
       "      <th></th>\n",
       "      <th>food_item_id</th>\n",
       "      <th>user_id</th>\n",
       "      <th>date</th>\n",
       "      <th>meal</th>\n",
       "      <th>title</th>\n",
       "      <th>brand</th>\n",
       "      <th>calories</th>\n",
       "      <th>protein</th>\n",
       "      <th>fat</th>\n",
       "      <th>carbohydrates</th>\n",
       "    </tr>\n",
       "  </thead>\n",
       "  <tbody>\n",
       "    <tr>\n",
       "      <th>279189</th>\n",
       "      <td>2096280051</td>\n",
       "      <td>23304201</td>\n",
       "      <td>2017-06-30</td>\n",
       "      <td>lunch</td>\n",
       "      <td>Kipsate met Pindasaus</td>\n",
       "      <td>NaN</td>\n",
       "      <td>229.0</td>\n",
       "      <td>15.0</td>\n",
       "      <td>13.5</td>\n",
       "      <td>12.0</td>\n",
       "    </tr>\n",
       "    <tr>\n",
       "      <th>3023</th>\n",
       "      <td>2095250364</td>\n",
       "      <td>23296601</td>\n",
       "      <td>2017-06-30</td>\n",
       "      <td>dinner</td>\n",
       "      <td>Greek salad</td>\n",
       "      <td>Salads</td>\n",
       "      <td>255.0</td>\n",
       "      <td>16.6</td>\n",
       "      <td>17.3</td>\n",
       "      <td>8.1</td>\n",
       "    </tr>\n",
       "    <tr>\n",
       "      <th>317057</th>\n",
       "      <td>2096582790</td>\n",
       "      <td>23305601</td>\n",
       "      <td>2017-06-30</td>\n",
       "      <td>snack</td>\n",
       "      <td>Weißwein</td>\n",
       "      <td>NaN</td>\n",
       "      <td>209.0</td>\n",
       "      <td>0.0</td>\n",
       "      <td>0.0</td>\n",
       "      <td>2.1</td>\n",
       "    </tr>\n",
       "    <tr>\n",
       "      <th>125967</th>\n",
       "      <td>2096279451</td>\n",
       "      <td>23304201</td>\n",
       "      <td>2017-06-30</td>\n",
       "      <td>lunch</td>\n",
       "      <td>Mayonaise</td>\n",
       "      <td>NaN</td>\n",
       "      <td>413.0</td>\n",
       "      <td>0.0</td>\n",
       "      <td>46.7</td>\n",
       "      <td>0.2</td>\n",
       "    </tr>\n",
       "    <tr>\n",
       "      <th>152627</th>\n",
       "      <td>2096587081</td>\n",
       "      <td>23305601</td>\n",
       "      <td>2017-06-30</td>\n",
       "      <td>dinner</td>\n",
       "      <td>Grüne Bohnen</td>\n",
       "      <td>NaN</td>\n",
       "      <td>104.0</td>\n",
       "      <td>5.7</td>\n",
       "      <td>0.6</td>\n",
       "      <td>19.4</td>\n",
       "    </tr>\n",
       "  </tbody>\n",
       "</table>\n",
       "</div>"
      ],
      "text/plain": [
       "        food_item_id   user_id        date    meal                  title  \\\n",
       "279189    2096280051  23304201  2017-06-30   lunch  Kipsate met Pindasaus   \n",
       "3023      2095250364  23296601  2017-06-30  dinner            Greek salad   \n",
       "317057    2096582790  23305601  2017-06-30   snack               Weißwein   \n",
       "125967    2096279451  23304201  2017-06-30   lunch              Mayonaise   \n",
       "152627    2096587081  23305601  2017-06-30  dinner           Grüne Bohnen   \n",
       "\n",
       "         brand  calories  protein   fat  carbohydrates  \n",
       "279189     NaN     229.0     15.0  13.5           12.0  \n",
       "3023    Salads     255.0     16.6  17.3            8.1  \n",
       "317057     NaN     209.0      0.0   0.0            2.1  \n",
       "125967     NaN     413.0      0.0  46.7            0.2  \n",
       "152627     NaN     104.0      5.7   0.6           19.4  "
      ]
     },
     "execution_count": 120,
     "metadata": {},
     "output_type": "execute_result"
    }
   ],
   "source": [
    "food_df = food_df.sort('date')\n",
    "food_df.head()"
   ]
  },
  {
   "cell_type": "code",
   "execution_count": 122,
   "metadata": {
    "collapsed": false
   },
   "outputs": [
    {
     "data": {
      "text/html": [
       "<div>\n",
       "<table border=\"1\" class=\"dataframe\">\n",
       "  <thead>\n",
       "    <tr style=\"text-align: right;\">\n",
       "      <th></th>\n",
       "      <th>user_id</th>\n",
       "      <th>date</th>\n",
       "    </tr>\n",
       "  </thead>\n",
       "  <tbody>\n",
       "    <tr>\n",
       "      <th>0</th>\n",
       "      <td>23304201</td>\n",
       "      <td>2017-06-30</td>\n",
       "    </tr>\n",
       "    <tr>\n",
       "      <th>1</th>\n",
       "      <td>23296601</td>\n",
       "      <td>2017-06-30</td>\n",
       "    </tr>\n",
       "    <tr>\n",
       "      <th>2</th>\n",
       "      <td>23305601</td>\n",
       "      <td>2017-06-30</td>\n",
       "    </tr>\n",
       "    <tr>\n",
       "      <th>3</th>\n",
       "      <td>23304201</td>\n",
       "      <td>2017-06-30</td>\n",
       "    </tr>\n",
       "    <tr>\n",
       "      <th>4</th>\n",
       "      <td>23305601</td>\n",
       "      <td>2017-06-30</td>\n",
       "    </tr>\n",
       "  </tbody>\n",
       "</table>\n",
       "</div>"
      ],
      "text/plain": [
       "    user_id       date\n",
       "0  23304201 2017-06-30\n",
       "1  23296601 2017-06-30\n",
       "2  23305601 2017-06-30\n",
       "3  23304201 2017-06-30\n",
       "4  23305601 2017-06-30"
      ]
     },
     "execution_count": 122,
     "metadata": {},
     "output_type": "execute_result"
    }
   ],
   "source": [
    "#Focus on user & date\n",
    "df = pd.DataFrame(columns = ['user_id','date'])\n",
    "df['user_id'] = food_df['user_id']\n",
    "df['date'] = food_df['date']\n",
    "df = df.reset_index(drop=True)\n",
    "df['date'] = pd.to_datetime(df['date'])\n",
    "df.head()"
   ]
  },
  {
   "cell_type": "code",
   "execution_count": 114,
   "metadata": {
    "collapsed": false
   },
   "outputs": [
    {
     "name": "stderr",
     "output_type": "stream",
     "text": [
      "/Users/kevenlemoing/anaconda/lib/python2.7/site-packages/ipykernel/__main__.py:2: FutureWarning: sort(columns=....) is deprecated, use sort_values(by=.....)\n",
      "  from ipykernel import kernelapp as app\n"
     ]
    },
    {
     "data": {
      "text/html": [
       "<div>\n",
       "<table border=\"1\" class=\"dataframe\">\n",
       "  <thead>\n",
       "    <tr style=\"text-align: right;\">\n",
       "      <th></th>\n",
       "      <th>user_id</th>\n",
       "    </tr>\n",
       "    <tr>\n",
       "      <th>date</th>\n",
       "      <th></th>\n",
       "    </tr>\n",
       "  </thead>\n",
       "  <tbody>\n",
       "    <tr>\n",
       "      <th>2017-06-30</th>\n",
       "      <td>23304201</td>\n",
       "    </tr>\n",
       "    <tr>\n",
       "      <th>2017-06-30</th>\n",
       "      <td>23304201</td>\n",
       "    </tr>\n",
       "    <tr>\n",
       "      <th>2017-06-30</th>\n",
       "      <td>23296601</td>\n",
       "    </tr>\n",
       "    <tr>\n",
       "      <th>2017-06-30</th>\n",
       "      <td>23305601</td>\n",
       "    </tr>\n",
       "    <tr>\n",
       "      <th>2017-06-30</th>\n",
       "      <td>23296601</td>\n",
       "    </tr>\n",
       "  </tbody>\n",
       "</table>\n",
       "</div>"
      ],
      "text/plain": [
       "             user_id\n",
       "date                \n",
       "2017-06-30  23304201\n",
       "2017-06-30  23304201\n",
       "2017-06-30  23296601\n",
       "2017-06-30  23305601\n",
       "2017-06-30  23296601"
      ]
     },
     "execution_count": 114,
     "metadata": {},
     "output_type": "execute_result"
    }
   ],
   "source": [
    "#Sort the dataframe by date and make the column `date` as an index\n",
    "df = df.sort('date')\n",
    "df = df.set_index('date')\n",
    "\n",
    "df.head()"
   ]
  },
  {
   "cell_type": "code",
   "execution_count": 115,
   "metadata": {
    "collapsed": false
   },
   "outputs": [
    {
     "data": {
      "text/html": [
       "<div>\n",
       "<table border=\"1\" class=\"dataframe\">\n",
       "  <thead>\n",
       "    <tr style=\"text-align: right;\">\n",
       "      <th></th>\n",
       "      <th>user_id</th>\n",
       "    </tr>\n",
       "    <tr>\n",
       "      <th>date</th>\n",
       "      <th></th>\n",
       "    </tr>\n",
       "  </thead>\n",
       "  <tbody>\n",
       "    <tr>\n",
       "      <th>2017-06-30</th>\n",
       "      <td>31</td>\n",
       "    </tr>\n",
       "    <tr>\n",
       "      <th>2017-07-31</th>\n",
       "      <td>45722</td>\n",
       "    </tr>\n",
       "    <tr>\n",
       "      <th>2017-08-31</th>\n",
       "      <td>86816</td>\n",
       "    </tr>\n",
       "    <tr>\n",
       "      <th>2017-09-30</th>\n",
       "      <td>83028</td>\n",
       "    </tr>\n",
       "    <tr>\n",
       "      <th>2017-10-31</th>\n",
       "      <td>50669</td>\n",
       "    </tr>\n",
       "    <tr>\n",
       "      <th>2017-11-30</th>\n",
       "      <td>33554</td>\n",
       "    </tr>\n",
       "    <tr>\n",
       "      <th>2017-12-31</th>\n",
       "      <td>21020</td>\n",
       "    </tr>\n",
       "    <tr>\n",
       "      <th>2018-01-31</th>\n",
       "      <td>29224</td>\n",
       "    </tr>\n",
       "    <tr>\n",
       "      <th>2018-02-28</th>\n",
       "      <td>1034</td>\n",
       "    </tr>\n",
       "  </tbody>\n",
       "</table>\n",
       "</div>"
      ],
      "text/plain": [
       "            user_id\n",
       "date               \n",
       "2017-06-30       31\n",
       "2017-07-31    45722\n",
       "2017-08-31    86816\n",
       "2017-09-30    83028\n",
       "2017-10-31    50669\n",
       "2017-11-30    33554\n",
       "2017-12-31    21020\n",
       "2018-01-31    29224\n",
       "2018-02-28     1034"
      ]
     },
     "execution_count": 115,
     "metadata": {},
     "output_type": "execute_result"
    }
   ],
   "source": [
    "#Get the sum of tracking per day \n",
    "count_df = df.resample('M').count()\n",
    "count_df"
   ]
  },
  {
   "cell_type": "code",
   "execution_count": 80,
   "metadata": {
    "collapsed": false
   },
   "outputs": [
    {
     "name": "stdout",
     "output_type": "stream",
     "text": [
      "5810\n"
     ]
    }
   ],
   "source": [
    "# Get the amount of users\n",
    "print len(users_df['user_id'])"
   ]
  },
  {
   "cell_type": "code",
   "execution_count": 116,
   "metadata": {
    "collapsed": false
   },
   "outputs": [
    {
     "data": {
      "text/html": [
       "<div>\n",
       "<table border=\"1\" class=\"dataframe\">\n",
       "  <thead>\n",
       "    <tr style=\"text-align: right;\">\n",
       "      <th></th>\n",
       "      <th>user_id</th>\n",
       "      <th>daily_tracking_freq</th>\n",
       "    </tr>\n",
       "    <tr>\n",
       "      <th>date</th>\n",
       "      <th></th>\n",
       "      <th></th>\n",
       "    </tr>\n",
       "  </thead>\n",
       "  <tbody>\n",
       "    <tr>\n",
       "      <th>2017-06-30</th>\n",
       "      <td>31</td>\n",
       "      <td>KO</td>\n",
       "    </tr>\n",
       "    <tr>\n",
       "      <th>2017-07-31</th>\n",
       "      <td>45722</td>\n",
       "      <td>OK</td>\n",
       "    </tr>\n",
       "    <tr>\n",
       "      <th>2017-08-31</th>\n",
       "      <td>86816</td>\n",
       "      <td>OK</td>\n",
       "    </tr>\n",
       "    <tr>\n",
       "      <th>2017-09-30</th>\n",
       "      <td>83028</td>\n",
       "      <td>OK</td>\n",
       "    </tr>\n",
       "    <tr>\n",
       "      <th>2017-10-31</th>\n",
       "      <td>50669</td>\n",
       "      <td>OK</td>\n",
       "    </tr>\n",
       "    <tr>\n",
       "      <th>2017-11-30</th>\n",
       "      <td>33554</td>\n",
       "      <td>OK</td>\n",
       "    </tr>\n",
       "    <tr>\n",
       "      <th>2017-12-31</th>\n",
       "      <td>21020</td>\n",
       "      <td>OK</td>\n",
       "    </tr>\n",
       "    <tr>\n",
       "      <th>2018-01-31</th>\n",
       "      <td>29224</td>\n",
       "      <td>OK</td>\n",
       "    </tr>\n",
       "    <tr>\n",
       "      <th>2018-02-28</th>\n",
       "      <td>1034</td>\n",
       "      <td>KO</td>\n",
       "    </tr>\n",
       "  </tbody>\n",
       "</table>\n",
       "</div>"
      ],
      "text/plain": [
       "            user_id daily_tracking_freq\n",
       "date                                   \n",
       "2017-06-30       31                  KO\n",
       "2017-07-31    45722                  OK\n",
       "2017-08-31    86816                  OK\n",
       "2017-09-30    83028                  OK\n",
       "2017-10-31    50669                  OK\n",
       "2017-11-30    33554                  OK\n",
       "2017-12-31    21020                  OK\n",
       "2018-01-31    29224                  OK\n",
       "2018-02-28     1034                  KO"
      ]
     },
     "execution_count": 116,
     "metadata": {},
     "output_type": "execute_result"
    }
   ],
   "source": [
    "#Adding a new column to confirm if the majority of users track three times per day their meals\n",
    "daily_tracking_freq = []\n",
    "\n",
    "for i in range(len(count_df['user_id'])):\n",
    "    if count_df['user_id'][i] / len(users_df['user_id']) < 3:\n",
    "        \n",
    "        daily_tracking_freq.append('KO')\n",
    "    else: \n",
    "        daily_tracking_freq.append('OK')\n",
    "\n",
    "#d = { 'daily_tracking_freq':daily_tracking_freq }\n",
    "#three_freq = pd.DataFrame(d)\n",
    "\n",
    "count_df['daily_tracking_freq'] = daily_tracking_freq\n",
    "count_df"
   ]
  },
  {
   "cell_type": "markdown",
   "metadata": {},
   "source": [
    "#### Comment: \n",
    "\n",
    "Please see above there is a majority of date when users track their meals three times per day"
   ]
  },
  {
   "cell_type": "code",
   "execution_count": null,
   "metadata": {
    "collapsed": true
   },
   "outputs": [],
   "source": []
  }
 ],
 "metadata": {
  "anaconda-cloud": {},
  "kernelspec": {
   "display_name": "Python [conda root]",
   "language": "python",
   "name": "conda-root-py"
  },
  "language_info": {
   "codemirror_mode": {
    "name": "ipython",
    "version": 2
   },
   "file_extension": ".py",
   "mimetype": "text/x-python",
   "name": "python",
   "nbconvert_exporter": "python",
   "pygments_lexer": "ipython2",
   "version": "2.7.13"
  }
 },
 "nbformat": 4,
 "nbformat_minor": 1
}
